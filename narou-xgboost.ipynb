{
 "cells": [
  {
   "cell_type": "code",
   "execution_count": 1,
   "id": "ecebdf64",
   "metadata": {
    "_cell_guid": "b1076dfc-b9ad-4769-8c92-a6c4dae69d19",
    "_uuid": "8f2839f25d086af736a60e9eeb907d3b93b6e0e5",
    "execution": {
     "iopub.execute_input": "2025-02-10T14:31:11.948903Z",
     "iopub.status.busy": "2025-02-10T14:31:11.948373Z",
     "iopub.status.idle": "2025-02-10T14:31:12.931683Z",
     "shell.execute_reply": "2025-02-10T14:31:12.929893Z"
    },
    "papermill": {
     "duration": 1.004426,
     "end_time": "2025-02-10T14:31:12.933964",
     "exception": false,
     "start_time": "2025-02-10T14:31:11.929538",
     "status": "completed"
    },
    "tags": []
   },
   "outputs": [
    {
     "name": "stdout",
     "output_type": "stream",
     "text": [
      "/kaggle/input/narou/sample_submission.csv\n",
      "/kaggle/input/narou/train.csv\n",
      "/kaggle/input/narou/test.csv\n"
     ]
    }
   ],
   "source": [
    "# This Python 3 environment comes with many helpful analytics libraries installed\n",
    "# It is defined by the kaggle/python Docker image: https://github.com/kaggle/docker-python\n",
    "# For example, here's several helpful packages to load\n",
    "\n",
    "import numpy as np # linear algebra\n",
    "import pandas as pd # data processing, CSV file I/O (e.g. pd.read_csv)\n",
    "\n",
    "# Input data files are available in the read-only \"../input/\" directory\n",
    "# For example, running this (by clicking run or pressing Shift+Enter) will list all files under the input directory\n",
    "\n",
    "import os\n",
    "for dirname, _, filenames in os.walk('/kaggle/input'):\n",
    "    for filename in filenames:\n",
    "        print(os.path.join(dirname, filename))\n",
    "\n",
    "# You can write up to 20GB to the current directory (/kaggle/working/) that gets preserved as output when you create a version using \"Save & Run All\" \n",
    "# You can also write temporary files to /kaggle/temp/, but they won't be saved outside of the current session"
   ]
  },
  {
   "cell_type": "code",
   "execution_count": 2,
   "id": "554a55a7",
   "metadata": {
    "execution": {
     "iopub.execute_input": "2025-02-10T14:31:12.967975Z",
     "iopub.status.busy": "2025-02-10T14:31:12.966959Z",
     "iopub.status.idle": "2025-02-10T14:31:29.356294Z",
     "shell.execute_reply": "2025-02-10T14:31:29.355174Z"
    },
    "papermill": {
     "duration": 16.408804,
     "end_time": "2025-02-10T14:31:29.358805",
     "exception": false,
     "start_time": "2025-02-10T14:31:12.950001",
     "status": "completed"
    },
    "tags": []
   },
   "outputs": [
    {
     "name": "stdout",
     "output_type": "stream",
     "text": [
      "Collecting japanize_matplotlib\r\n",
      "  Downloading japanize-matplotlib-1.1.3.tar.gz (4.1 MB)\r\n",
      "\u001b[2K     \u001b[90m━━━━━━━━━━━━━━━━━━━━━━━━━━━━━━━━━━━━━━━━\u001b[0m \u001b[32m4.1/4.1 MB\u001b[0m \u001b[31m35.7 MB/s\u001b[0m eta \u001b[36m0:00:00\u001b[0m\r\n",
      "\u001b[?25h  Preparing metadata (setup.py) ... \u001b[?25l-\b \bdone\r\n",
      "\u001b[?25hRequirement already satisfied: matplotlib in /opt/conda/lib/python3.10/site-packages (from japanize_matplotlib) (3.7.5)\r\n",
      "Requirement already satisfied: contourpy>=1.0.1 in /opt/conda/lib/python3.10/site-packages (from matplotlib->japanize_matplotlib) (1.2.1)\r\n",
      "Requirement already satisfied: cycler>=0.10 in /opt/conda/lib/python3.10/site-packages (from matplotlib->japanize_matplotlib) (0.12.1)\r\n",
      "Requirement already satisfied: fonttools>=4.22.0 in /opt/conda/lib/python3.10/site-packages (from matplotlib->japanize_matplotlib) (4.53.0)\r\n",
      "Requirement already satisfied: kiwisolver>=1.0.1 in /opt/conda/lib/python3.10/site-packages (from matplotlib->japanize_matplotlib) (1.4.5)\r\n",
      "Requirement already satisfied: numpy<2,>=1.20 in /opt/conda/lib/python3.10/site-packages (from matplotlib->japanize_matplotlib) (1.26.4)\r\n",
      "Requirement already satisfied: packaging>=20.0 in /opt/conda/lib/python3.10/site-packages (from matplotlib->japanize_matplotlib) (21.3)\r\n",
      "Requirement already satisfied: pillow>=6.2.0 in /opt/conda/lib/python3.10/site-packages (from matplotlib->japanize_matplotlib) (9.5.0)\r\n",
      "Requirement already satisfied: pyparsing>=2.3.1 in /opt/conda/lib/python3.10/site-packages (from matplotlib->japanize_matplotlib) (3.1.2)\r\n",
      "Requirement already satisfied: python-dateutil>=2.7 in /opt/conda/lib/python3.10/site-packages (from matplotlib->japanize_matplotlib) (2.9.0.post0)\r\n",
      "Requirement already satisfied: six>=1.5 in /opt/conda/lib/python3.10/site-packages (from python-dateutil>=2.7->matplotlib->japanize_matplotlib) (1.16.0)\r\n",
      "Building wheels for collected packages: japanize_matplotlib\r\n",
      "  Building wheel for japanize_matplotlib (setup.py) ... \u001b[?25l-\b \bdone\r\n",
      "\u001b[?25h  Created wheel for japanize_matplotlib: filename=japanize_matplotlib-1.1.3-py3-none-any.whl size=4120257 sha256=2620f00ed6c3b8ebb3609641ee13a62618a05eabf1b08e503545ae05407426ca\r\n",
      "  Stored in directory: /root/.cache/pip/wheels/61/7a/6b/df1f79be9c59862525070e157e62b08eab8ece27c1b68fbb94\r\n",
      "Successfully built japanize_matplotlib\r\n",
      "Installing collected packages: japanize_matplotlib\r\n",
      "Successfully installed japanize_matplotlib-1.1.3\r\n"
     ]
    }
   ],
   "source": [
    "!pip install japanize_matplotlib"
   ]
  },
  {
   "cell_type": "code",
   "execution_count": 3,
   "id": "829d9d68",
   "metadata": {
    "execution": {
     "iopub.execute_input": "2025-02-10T14:31:29.394754Z",
     "iopub.status.busy": "2025-02-10T14:31:29.394376Z",
     "iopub.status.idle": "2025-02-10T14:31:29.479230Z",
     "shell.execute_reply": "2025-02-10T14:31:29.478169Z"
    },
    "papermill": {
     "duration": 0.105553,
     "end_time": "2025-02-10T14:31:29.481750",
     "exception": false,
     "start_time": "2025-02-10T14:31:29.376197",
     "status": "completed"
    },
    "tags": []
   },
   "outputs": [],
   "source": [
    "import japanize_matplotlib"
   ]
  },
  {
   "cell_type": "code",
   "execution_count": 4,
   "id": "428e2055",
   "metadata": {
    "execution": {
     "iopub.execute_input": "2025-02-10T14:31:29.516595Z",
     "iopub.status.busy": "2025-02-10T14:31:29.516212Z",
     "iopub.status.idle": "2025-02-10T14:31:30.776594Z",
     "shell.execute_reply": "2025-02-10T14:31:30.775551Z"
    },
    "papermill": {
     "duration": 1.280331,
     "end_time": "2025-02-10T14:31:30.778896",
     "exception": false,
     "start_time": "2025-02-10T14:31:29.498565",
     "status": "completed"
    },
    "tags": []
   },
   "outputs": [
    {
     "name": "stdout",
     "output_type": "stream",
     "text": [
      "<class 'pandas.core.frame.DataFrame'>\n",
      "RangeIndex: 75544 entries, 0 to 75543\n",
      "Data columns (total 19 columns):\n",
      " #   Column                     Non-Null Count  Dtype  \n",
      "---  ------                     --------------  -----  \n",
      " 0   novel_id                   75544 non-null  int64  \n",
      " 1   title                      75544 non-null  object \n",
      " 2   writer                     75542 non-null  object \n",
      " 3   biggenre                   75544 non-null  object \n",
      " 4   genre                      75544 non-null  object \n",
      " 5   keyword                    74800 non-null  object \n",
      " 6   isr15                      75544 non-null  object \n",
      " 7   isbl                       75544 non-null  object \n",
      " 8   isgl                       75544 non-null  object \n",
      " 9   iszankoku                  75544 non-null  object \n",
      " 10  istensei                   75544 non-null  object \n",
      " 11  istenni                    75544 non-null  object \n",
      " 12  kaiwaritu                  75544 non-null  float64\n",
      " 13  length_per_story           75544 non-null  float64\n",
      " 14  sasie_cnt_per_story        75544 non-null  float64\n",
      " 15  time_per_story_submission  75544 non-null  float64\n",
      " 16  global_point               75544 non-null  float64\n",
      " 17  fav_novel_cnt              75544 non-null  float64\n",
      " 18  all_point                  75544 non-null  float64\n",
      "dtypes: float64(7), int64(1), object(11)\n",
      "memory usage: 11.0+ MB\n"
     ]
    }
   ],
   "source": [
    "train = pd.read_csv(\"/kaggle/input/narou/train.csv\")\n",
    "train.info()"
   ]
  },
  {
   "cell_type": "markdown",
   "id": "b045b78c",
   "metadata": {
    "papermill": {
     "duration": 0.01638,
     "end_time": "2025-02-10T14:31:30.811622",
     "exception": false,
     "start_time": "2025-02-10T14:31:30.795242",
     "status": "completed"
    },
    "tags": []
   },
   "source": [
    "# Data pre-processing"
   ]
  },
  {
   "cell_type": "code",
   "execution_count": 5,
   "id": "a2991d1b",
   "metadata": {
    "execution": {
     "iopub.execute_input": "2025-02-10T14:31:30.846229Z",
     "iopub.status.busy": "2025-02-10T14:31:30.845415Z",
     "iopub.status.idle": "2025-02-10T14:31:30.896288Z",
     "shell.execute_reply": "2025-02-10T14:31:30.895232Z"
    },
    "papermill": {
     "duration": 0.070452,
     "end_time": "2025-02-10T14:31:30.898370",
     "exception": false,
     "start_time": "2025-02-10T14:31:30.827918",
     "status": "completed"
    },
    "tags": []
   },
   "outputs": [
    {
     "data": {
      "text/plain": [
       "novel_id                       0\n",
       "title                          0\n",
       "writer                         2\n",
       "biggenre                       0\n",
       "genre                          0\n",
       "keyword                      744\n",
       "isr15                          0\n",
       "isbl                           0\n",
       "isgl                           0\n",
       "iszankoku                      0\n",
       "istensei                       0\n",
       "istenni                        0\n",
       "kaiwaritu                      0\n",
       "length_per_story               0\n",
       "sasie_cnt_per_story            0\n",
       "time_per_story_submission      0\n",
       "global_point                   0\n",
       "fav_novel_cnt                  0\n",
       "all_point                      0\n",
       "dtype: int64"
      ]
     },
     "execution_count": 5,
     "metadata": {},
     "output_type": "execute_result"
    }
   ],
   "source": [
    "train.isna().sum()"
   ]
  },
  {
   "cell_type": "markdown",
   "id": "7005d090",
   "metadata": {
    "papermill": {
     "duration": 0.015871,
     "end_time": "2025-02-10T14:31:30.930574",
     "exception": false,
     "start_time": "2025-02-10T14:31:30.914703",
     "status": "completed"
    },
    "tags": []
   },
   "source": [
    "## Finding all unique genres"
   ]
  },
  {
   "cell_type": "code",
   "execution_count": 6,
   "id": "0461c117",
   "metadata": {
    "execution": {
     "iopub.execute_input": "2025-02-10T14:31:30.964966Z",
     "iopub.status.busy": "2025-02-10T14:31:30.964228Z",
     "iopub.status.idle": "2025-02-10T14:31:30.977229Z",
     "shell.execute_reply": "2025-02-10T14:31:30.976158Z"
    },
    "papermill": {
     "duration": 0.032778,
     "end_time": "2025-02-10T14:31:30.979540",
     "exception": false,
     "start_time": "2025-02-10T14:31:30.946762",
     "status": "completed"
    },
    "tags": []
   },
   "outputs": [
    {
     "name": "stdout",
     "output_type": "stream",
     "text": [
      "{'VRゲーム〔SF〕': 0, '異世界〔恋愛〕': 1, '現実世界〔恋愛〕': 2, 'ローファンタジー〔ファンタジー〕': 3, 'コメディー〔文芸〕': 4, 'ハイファンタジー〔ファンタジー〕': 5, '歴史〔文芸〕': 6, 'エッセイ〔その他〕': 7, 'パニック〔SF〕': 8, 'ヒューマンドラマ〔文芸〕': 9, 'ホラー〔文芸〕': 10, '推理〔文芸〕': 11, 'ノンジャンル〔ノンジャンル〕': 12, '純文学〔文芸〕': 13, '詩〔その他〕': 14, 'リプレイ〔その他〕': 15, '宇宙〔SF〕': 16, 'アクション〔文芸〕': 17, '空想科学〔SF〕': 18, 'その他〔その他〕': 19, '童話〔その他〕': 20}\n"
     ]
    }
   ],
   "source": [
    "genre_collection = train[\"genre\"].unique().tolist()\n",
    "genre_dict = dict()\n",
    "for i, el in enumerate(genre_collection):\n",
    "    genre_dict[el] = i\n",
    "print(genre_dict)"
   ]
  },
  {
   "cell_type": "markdown",
   "id": "159ee395",
   "metadata": {
    "papermill": {
     "duration": 0.016416,
     "end_time": "2025-02-10T14:31:31.012579",
     "exception": false,
     "start_time": "2025-02-10T14:31:30.996163",
     "status": "completed"
    },
    "tags": []
   },
   "source": [
    "## Tagging novels that don't have tags (keywords)"
   ]
  },
  {
   "cell_type": "code",
   "execution_count": 7,
   "id": "c3f87827",
   "metadata": {
    "execution": {
     "iopub.execute_input": "2025-02-10T14:31:31.047804Z",
     "iopub.status.busy": "2025-02-10T14:31:31.047410Z",
     "iopub.status.idle": "2025-02-10T14:31:31.110825Z",
     "shell.execute_reply": "2025-02-10T14:31:31.109645Z"
    },
    "papermill": {
     "duration": 0.08352,
     "end_time": "2025-02-10T14:31:31.113042",
     "exception": false,
     "start_time": "2025-02-10T14:31:31.029522",
     "status": "completed"
    },
    "tags": []
   },
   "outputs": [
    {
     "data": {
      "text/plain": [
       "novel_id                     0\n",
       "title                        0\n",
       "writer                       2\n",
       "biggenre                     0\n",
       "genre                        0\n",
       "keyword                      0\n",
       "isr15                        0\n",
       "isbl                         0\n",
       "isgl                         0\n",
       "iszankoku                    0\n",
       "istensei                     0\n",
       "istenni                      0\n",
       "kaiwaritu                    0\n",
       "length_per_story             0\n",
       "sasie_cnt_per_story          0\n",
       "time_per_story_submission    0\n",
       "global_point                 0\n",
       "fav_novel_cnt                0\n",
       "all_point                    0\n",
       "dtype: int64"
      ]
     },
     "execution_count": 7,
     "metadata": {},
     "output_type": "execute_result"
    }
   ],
   "source": [
    "train.fillna({\"keyword\":\"UNTAGGED_NOVEL\"}, inplace=True)\n",
    "train.isna().sum()"
   ]
  },
  {
   "cell_type": "markdown",
   "id": "c378e9a6",
   "metadata": {
    "papermill": {
     "duration": 0.016129,
     "end_time": "2025-02-10T14:31:31.145712",
     "exception": false,
     "start_time": "2025-02-10T14:31:31.129583",
     "status": "completed"
    },
    "tags": []
   },
   "source": [
    "## One-hot encoding most popular keywords"
   ]
  },
  {
   "cell_type": "code",
   "execution_count": 8,
   "id": "802496b6",
   "metadata": {
    "execution": {
     "iopub.execute_input": "2025-02-10T14:31:31.180323Z",
     "iopub.status.busy": "2025-02-10T14:31:31.179926Z",
     "iopub.status.idle": "2025-02-10T14:31:31.699218Z",
     "shell.execute_reply": "2025-02-10T14:31:31.698200Z"
    },
    "papermill": {
     "duration": 0.539486,
     "end_time": "2025-02-10T14:31:31.701661",
     "exception": false,
     "start_time": "2025-02-10T14:31:31.162175",
     "status": "completed"
    },
    "tags": []
   },
   "outputs": [],
   "source": [
    "def str_tags_to_set(tags):\n",
    "    return set(tags.split(\" \"))\n",
    "\n",
    "train[\"keywords_set\"] = train[\"keyword\"].apply(lambda x: str_tags_to_set(x))\n",
    "keywords_set_list = train[\"keywords_set\"].tolist()\n",
    "keywords_collection = set()\n",
    "\n",
    "\n",
    "for i in keywords_set_list:\n",
    "    keywords_collection.update(i)\n",
    "keywords_dict = dict()\n",
    "for i, el in enumerate(keywords_collection):\n",
    "    keywords_dict[el] = i"
   ]
  },
  {
   "cell_type": "code",
   "execution_count": 9,
   "id": "d5bb8a55",
   "metadata": {
    "execution": {
     "iopub.execute_input": "2025-02-10T14:31:31.737466Z",
     "iopub.status.busy": "2025-02-10T14:31:31.737040Z",
     "iopub.status.idle": "2025-02-10T14:31:31.743703Z",
     "shell.execute_reply": "2025-02-10T14:31:31.742469Z"
    },
    "papermill": {
     "duration": 0.027645,
     "end_time": "2025-02-10T14:31:31.745900",
     "exception": false,
     "start_time": "2025-02-10T14:31:31.718255",
     "status": "completed"
    },
    "tags": []
   },
   "outputs": [
    {
     "data": {
      "text/plain": [
       "81075"
      ]
     },
     "execution_count": 9,
     "metadata": {},
     "output_type": "execute_result"
    }
   ],
   "source": [
    "len(keywords_dict)"
   ]
  },
  {
   "cell_type": "markdown",
   "id": "55279860",
   "metadata": {
    "papermill": {
     "duration": 0.016301,
     "end_time": "2025-02-10T14:31:31.778928",
     "exception": false,
     "start_time": "2025-02-10T14:31:31.762627",
     "status": "completed"
    },
    "tags": []
   },
   "source": [
    "Too many unique keywords to do naive one-hot encoding (considering every possible keyword)"
   ]
  },
  {
   "cell_type": "code",
   "execution_count": 10,
   "id": "21e67eec",
   "metadata": {
    "execution": {
     "iopub.execute_input": "2025-02-10T14:31:31.813722Z",
     "iopub.status.busy": "2025-02-10T14:31:31.813357Z",
     "iopub.status.idle": "2025-02-10T14:31:31.824985Z",
     "shell.execute_reply": "2025-02-10T14:31:31.823756Z"
    },
    "papermill": {
     "duration": 0.031784,
     "end_time": "2025-02-10T14:31:31.827303",
     "exception": false,
     "start_time": "2025-02-10T14:31:31.795519",
     "status": "completed"
    },
    "tags": []
   },
   "outputs": [
    {
     "name": "stdout",
     "output_type": "stream",
     "text": [
      "['', '龍×人間', '家出少年', 'CERO\\u3000B', '結婚観', '変わった日常', '幼馴染まない', '与力見習い', 'メディアワークス文庫', '別世界交流', '恋愛要素は…？', 'ムキムキ神殿長', '精神的恐怖', '児童', '後方彼氏面系令嬢', 'ヒロインは実力者', '恋華', '普通受け', '押し付けられた婚約者', 'ロボっ子', '仄暗いお話', 'チートは主人公以外', '「春・花小説」', '伊野澄市', 'オレンジの屋根', 'ほいのほいのほい', '特撮女形', '箱庭療法', 'パン職人', 'ランクS', '恋愛を全力で応援し隊', 'あたしの人生について', '橫浜の銅御殿', '作者は文才欲しい', '戦いなし', '少しシリアス展開あり', 'タヒチ', '全ステータス0', '中華風／中華', 'こっそり異世界転生', 'サブヒロインが最強', 'プチざまぁ', 'オリジナル戦記？', 'ネタバレ注意！', '空想怪談', 'そもそも登場しない', 'ランキング攻略', '婚活？', 'デマ', '身長差コンビ']\n"
     ]
    }
   ],
   "source": [
    "print(list(keywords_dict.keys())[:50])"
   ]
  },
  {
   "cell_type": "code",
   "execution_count": 11,
   "id": "918ce8a5",
   "metadata": {
    "execution": {
     "iopub.execute_input": "2025-02-10T14:31:31.862402Z",
     "iopub.status.busy": "2025-02-10T14:31:31.861986Z",
     "iopub.status.idle": "2025-02-10T14:31:32.241638Z",
     "shell.execute_reply": "2025-02-10T14:31:32.240419Z"
    },
    "papermill": {
     "duration": 0.400034,
     "end_time": "2025-02-10T14:31:32.244035",
     "exception": false,
     "start_time": "2025-02-10T14:31:31.844001",
     "status": "completed"
    },
    "tags": []
   },
   "outputs": [
    {
     "name": "stdout",
     "output_type": "stream",
     "text": [
      "        keyword  frequency\n",
      "0           R15      29748\n",
      "1       残酷な描写あり      25027\n",
      "2            日常      14524\n",
      "3            青春      13206\n",
      "4          男主人公      12547\n",
      "..          ...        ...\n",
      "245  新人発掘コンテスト２        323\n",
      "246     異世界トリップ        322\n",
      "247   ボーイミーツガール        320\n",
      "248          一途        319\n",
      "249          料理        317\n",
      "\n",
      "[250 rows x 2 columns]\n"
     ]
    }
   ],
   "source": [
    "from collections import Counter\n",
    "\n",
    "KEYWORDS_DICT_SIZE = 250\n",
    "\n",
    "keywords_array = train['keyword'].str.split()\n",
    "keywords_array_flattened = [keyword for individual_list in keywords_array for keyword in individual_list]\n",
    "keywords_counter = Counter(keywords_array_flattened)\n",
    "most_popular_keywords = keywords_counter.most_common(KEYWORDS_DICT_SIZE)\n",
    "\n",
    "most_popular_keywords_df = pd.DataFrame(most_popular_keywords, columns=['keyword', 'frequency'])\n",
    "print(most_popular_keywords_df)"
   ]
  },
  {
   "cell_type": "code",
   "execution_count": 12,
   "id": "2a2522b5",
   "metadata": {
    "execution": {
     "iopub.execute_input": "2025-02-10T14:31:32.279450Z",
     "iopub.status.busy": "2025-02-10T14:31:32.279024Z",
     "iopub.status.idle": "2025-02-10T14:31:32.286064Z",
     "shell.execute_reply": "2025-02-10T14:31:32.284986Z"
    },
    "papermill": {
     "duration": 0.027712,
     "end_time": "2025-02-10T14:31:32.288733",
     "exception": false,
     "start_time": "2025-02-10T14:31:32.261021",
     "status": "completed"
    },
    "tags": []
   },
   "outputs": [
    {
     "name": "stdout",
     "output_type": "stream",
     "text": [
      "{'R15': 0, '残酷な描写あり': 1, '日常': 2, '青春': 3, '男主人公': 4, '女主人公': 5, '恋愛': 6, 'ハッピーエンド': 7, 'シリアス': 8, '魔法': 9, '現代': 10, '冒険': 11, 'ファンタジー': 12, 'ほのぼの': 13, 'ラブコメ': 14, '異世界転移': 15, '異世界': 16, '異世界転生': 17, '学園': 18, 'オリジナル戦記': 19, '異能力バトル': 20, '西洋': 21, '高校生': 22, 'ギャグ': 23, '年の差': 24, 'スクールラブ': 25, 'チート': 26, '身分差': 27, 'ミステリー': 28, '近未来': 29, 'ダーク': 30, '悲恋': 31, '人外': 32, '伝奇': 33, '魔王': 34, 'ガールズラブ': 35, '現代(モダン)': 36, 'コメディ': 37, 'ハーレム': 38, '中世': 39, '勇者': 40, '悪役令嬢': 41, 'ヒーロー': 42, '超能力': 43, 'サスペンス': 44, '友情': 45, '溺愛': 46, 'ざまぁ': 47, '主人公最強': 48, 'バトル': 49, 'ホームドラマ': 50, '和風': 51, '少女': 52, 'ヒストリカル': 53, 'SF': 54, '幼馴染': 55, '未来': 56, '婚約破棄': 57, 'ボーイズラブ': 58, '転生': 59, '異類婚姻譚': 60, '群像劇': 61, '乙女ゲーム': 62, 'ダンジョン': 63, 'コメディー': 64, '怪談': 65, '職業もの': 66, '学校/学園': 67, '私小説': 68, '少年': 69, '美少女': 70, '時代小説': 71, 'ネトコン11': 72, 'ハードボイルド': 73, '百合': 74, '人工知能': 75, 'ロボット': 76, '剣と魔法': 77, 'ホラー': 78, 'サイコホラー': 79, '戦争': 80, 'ESN大賞５': 81, '123大賞4': 82, 'OVL大賞9': 83, '大学生': 84, '王子': 85, '騎士': 86, '聖女': 87, '貴族': 88, 'ゲーム': 89, '復讐': 90, 'アクション': 91, '小学館ＦＴノベル賞': 92, 'ネトコン11感想': 93, '成り上がり': 94, '追放': 95, '純愛': 96, 'VRMMO': 97, 'コミックスピア大賞3': 98, 'ディストピア': 99, 'バッドエンド': 100, '中学生': 101, 'パラレルワールド': 102, '切ない': 103, 'スプラッタ': 104, '魔女': 105, '家族': 106, '古典恋愛': 107, '妖怪': 108, 'UNTAGGED_NOVEL': 109, 'ヤンデレ': 110, 'ミリタリー': 111, '探偵小説': 112, '三角関係': 113, 'ドラゴン': 114, '短編': 115, 'ライトノベル': 116, '成長': 117, 'すれ違い': 118, '天災': 119, '猫': 120, 'オフィスラブ': 121, '推理': 122, 'じれじれ': 123, '二次創作': 124, 'IF戦記': 125, '悪魔': 126, 'エンターテイメント': 127, 'アンドロイド': 128, 'ご都合主義': 129, 'オカルト': 130, '美形': 131, '女子高生': 132, '殺人': 133, 'ＥＳＮ大賞６': 134, '神': 135, '剣': 136, '文学': 137, 'TS': 138, 'ESN大賞４': 139, '勘違い': 140, '天使': 141, 'ネット小説大賞九': 142, 'ネット小説大賞十': 143, 'エルフ': 144, 'スキル': 145, '精霊': 146, '史実': 147, '最強': 148, '初恋': 149, 'ツンデレ': 150, '内政': 151, '怪獣': 152, 'ドキドキ': 153, '獣人': 154, '戦闘': 155, '涙': 156, '幽霊': 157, 'イケメン': 158, '感動': 159, '吸血鬼': 160, '魔法使い': 161, 'ネット小説大賞十感想': 162, '平成': 163, 'グルメ': 164, '電脳世界': 165, 'ネット小説大賞九感想': 166, '魔術': 167, 'タイムリープ': 168, 'ドリコム大賞２': 169, '令嬢': 170, 'モンスター': 171, '歴史': 172, '記憶喪失': 173, '近世': 174, '旅': 175, 'もふもふ': 176, 'メイド': 177, '結婚': 178, '冒険者': 179, '無双': 180, 'ネトコン12感想': 181, 'ヒューマンドラマ': 182, '妹': 183, 'OVL大賞8': 184, 'ミステリ': 185, '魔法使い/魔女': 186, '夢': 187, 'スローライフ': 188, '昭和': 189, '近代': 190, '魔物': 191, '姫': 192, 'スペースオペラ': 193, 'ダークファンタジー': 194, 'BANG01': 195, 'OL/サラリーマン': 196, '集英社WEB小説大賞': 197, '妖精': 198, '竜': 199, 'キネノベ大賞１０': 200, 'ネット小説大賞六感想': 201, '架空戦記': 202, '奴隷': 203, '現代ファンタジー': 204, '学校': 205, '呪い': 206, '性転換': 207, '悲劇': 208, '123大賞3': 209, '123大賞': 210, '魔法少女': 211, 'ESN大賞２': 212, '逆行転生': 213, '宇宙': 214, 'ネット小説大賞八感想': 215, 'ライト': 216, '小学生': 217, '逆ハーレム': 218, 'ネット小説大賞七感想': 219, '新人発掘コンテスト': 220, 'パンデミック': 221, 'ESN大賞３': 222, 'アイリスIF4大賞': 223, '音楽': 224, 'SQEXノベル大賞': 225, 'エイリアン': 226, '執着': 227, '集英社小説大賞４': 228, 'タイムトラベル': 229, 'サイバーパンク': 230, 'スパイ': 231, '王女': 232, 'ハイファンタジー': 233, 'HJ大賞4': 234, '幼女': 235, 'ざまあ': 236, '童話': 237, '幼なじみ': 238, 'ネット小説大賞五': 239, 'キルタイム異世界大賞': 240, '戦記': 241, '探偵': 242, '神様': 243, '異能': 244, '新人発掘コンテスト２': 245, '異世界トリップ': 246, 'ボーイミーツガール': 247, '一途': 248, '料理': 249}\n"
     ]
    }
   ],
   "source": [
    "most_common_list = [keyword[0] for keyword in most_popular_keywords]\n",
    "keyword_dictionary = dict()\n",
    "for i, el in enumerate(most_common_list):\n",
    "    keyword_dictionary[el] = i\n",
    "print(keyword_dictionary)"
   ]
  },
  {
   "cell_type": "code",
   "execution_count": 13,
   "id": "2c5a8f17",
   "metadata": {
    "execution": {
     "iopub.execute_input": "2025-02-10T14:31:32.377323Z",
     "iopub.status.busy": "2025-02-10T14:31:32.376932Z",
     "iopub.status.idle": "2025-02-10T14:31:32.382386Z",
     "shell.execute_reply": "2025-02-10T14:31:32.381294Z"
    },
    "papermill": {
     "duration": 0.078764,
     "end_time": "2025-02-10T14:31:32.384434",
     "exception": false,
     "start_time": "2025-02-10T14:31:32.305670",
     "status": "completed"
    },
    "tags": []
   },
   "outputs": [],
   "source": [
    "def vectorize_keywords_set(x):\n",
    "    res = np.zeros(KEYWORDS_DICT_SIZE)\n",
    "    for keyword in x:\n",
    "        if keyword in keyword_dictionary:\n",
    "            res[keyword_dictionary[keyword]]=1\n",
    "    return res"
   ]
  },
  {
   "cell_type": "code",
   "execution_count": 14,
   "id": "b2b1040e",
   "metadata": {
    "execution": {
     "iopub.execute_input": "2025-02-10T14:31:32.420663Z",
     "iopub.status.busy": "2025-02-10T14:31:32.419669Z",
     "iopub.status.idle": "2025-02-10T14:31:32.797917Z",
     "shell.execute_reply": "2025-02-10T14:31:32.796767Z"
    },
    "papermill": {
     "duration": 0.398984,
     "end_time": "2025-02-10T14:31:32.800513",
     "exception": false,
     "start_time": "2025-02-10T14:31:32.401529",
     "status": "completed"
    },
    "tags": []
   },
   "outputs": [],
   "source": [
    "train[\"keyword_vector\"] = train[\"keywords_set\"].apply(vectorize_keywords_set)"
   ]
  },
  {
   "cell_type": "code",
   "execution_count": 15,
   "id": "1804b854",
   "metadata": {
    "execution": {
     "iopub.execute_input": "2025-02-10T14:31:32.836277Z",
     "iopub.status.busy": "2025-02-10T14:31:32.835862Z",
     "iopub.status.idle": "2025-02-10T14:31:32.847438Z",
     "shell.execute_reply": "2025-02-10T14:31:32.846437Z"
    },
    "papermill": {
     "duration": 0.031839,
     "end_time": "2025-02-10T14:31:32.849423",
     "exception": false,
     "start_time": "2025-02-10T14:31:32.817584",
     "status": "completed"
    },
    "tags": []
   },
   "outputs": [
    {
     "data": {
      "text/plain": [
       "0    [1.0, 0.0, 0.0, 0.0, 0.0, 0.0, 0.0, 0.0, 1.0, ...\n",
       "1    [1.0, 0.0, 0.0, 0.0, 0.0, 1.0, 0.0, 0.0, 0.0, ...\n",
       "2    [1.0, 0.0, 1.0, 1.0, 0.0, 0.0, 1.0, 0.0, 0.0, ...\n",
       "3    [1.0, 1.0, 0.0, 0.0, 0.0, 0.0, 0.0, 0.0, 0.0, ...\n",
       "4    [0.0, 0.0, 1.0, 1.0, 0.0, 0.0, 0.0, 0.0, 0.0, ...\n",
       "Name: keyword_vector, dtype: object"
      ]
     },
     "execution_count": 15,
     "metadata": {},
     "output_type": "execute_result"
    }
   ],
   "source": [
    "train[\"keyword_vector\"].head()"
   ]
  },
  {
   "cell_type": "code",
   "execution_count": 16,
   "id": "693a2c4c",
   "metadata": {
    "execution": {
     "iopub.execute_input": "2025-02-10T14:31:32.884991Z",
     "iopub.status.busy": "2025-02-10T14:31:32.884601Z",
     "iopub.status.idle": "2025-02-10T14:31:32.890996Z",
     "shell.execute_reply": "2025-02-10T14:31:32.890041Z"
    },
    "papermill": {
     "duration": 0.026578,
     "end_time": "2025-02-10T14:31:32.892996",
     "exception": false,
     "start_time": "2025-02-10T14:31:32.866418",
     "status": "completed"
    },
    "tags": []
   },
   "outputs": [
    {
     "data": {
      "text/plain": [
       "4"
      ]
     },
     "execution_count": 16,
     "metadata": {},
     "output_type": "execute_result"
    }
   ],
   "source": [
    "np.count_nonzero(train[\"keyword_vector\"][5])"
   ]
  },
  {
   "cell_type": "code",
   "execution_count": 17,
   "id": "70f441f7",
   "metadata": {
    "execution": {
     "iopub.execute_input": "2025-02-10T14:31:32.929203Z",
     "iopub.status.busy": "2025-02-10T14:31:32.928532Z",
     "iopub.status.idle": "2025-02-10T14:31:32.936146Z",
     "shell.execute_reply": "2025-02-10T14:31:32.935122Z"
    },
    "papermill": {
     "duration": 0.027853,
     "end_time": "2025-02-10T14:31:32.938154",
     "exception": false,
     "start_time": "2025-02-10T14:31:32.910301",
     "status": "completed"
    },
    "tags": []
   },
   "outputs": [
    {
     "data": {
      "text/plain": [
       "0    Yes\n",
       "1    Yes\n",
       "2    Yes\n",
       "3    Yes\n",
       "4     No\n",
       "Name: isr15, dtype: object"
      ]
     },
     "execution_count": 17,
     "metadata": {},
     "output_type": "execute_result"
    }
   ],
   "source": [
    "train[\"isr15\"].head()"
   ]
  },
  {
   "cell_type": "markdown",
   "id": "dd82fe03",
   "metadata": {
    "papermill": {
     "duration": 0.016885,
     "end_time": "2025-02-10T14:31:32.972181",
     "exception": false,
     "start_time": "2025-02-10T14:31:32.955296",
     "status": "completed"
    },
    "tags": []
   },
   "source": [
    "## Transforming yes/no columns to binary"
   ]
  },
  {
   "cell_type": "code",
   "execution_count": 18,
   "id": "304c86cc",
   "metadata": {
    "execution": {
     "iopub.execute_input": "2025-02-10T14:31:33.008956Z",
     "iopub.status.busy": "2025-02-10T14:31:33.007949Z",
     "iopub.status.idle": "2025-02-10T14:31:33.013103Z",
     "shell.execute_reply": "2025-02-10T14:31:33.012190Z"
    },
    "papermill": {
     "duration": 0.026044,
     "end_time": "2025-02-10T14:31:33.015528",
     "exception": false,
     "start_time": "2025-02-10T14:31:32.989484",
     "status": "completed"
    },
    "tags": []
   },
   "outputs": [],
   "source": [
    "def string_binary_to_boolean(x):\n",
    "    if x==\"Yes\":\n",
    "        return True\n",
    "    return False"
   ]
  },
  {
   "cell_type": "code",
   "execution_count": 19,
   "id": "3093a520",
   "metadata": {
    "execution": {
     "iopub.execute_input": "2025-02-10T14:31:33.051890Z",
     "iopub.status.busy": "2025-02-10T14:31:33.051532Z",
     "iopub.status.idle": "2025-02-10T14:31:33.076199Z",
     "shell.execute_reply": "2025-02-10T14:31:33.075138Z"
    },
    "papermill": {
     "duration": 0.045257,
     "end_time": "2025-02-10T14:31:33.078273",
     "exception": false,
     "start_time": "2025-02-10T14:31:33.033016",
     "status": "completed"
    },
    "tags": []
   },
   "outputs": [
    {
     "data": {
      "text/plain": [
       "0     True\n",
       "1     True\n",
       "2     True\n",
       "3     True\n",
       "4    False\n",
       "Name: isr15, dtype: bool"
      ]
     },
     "execution_count": 19,
     "metadata": {},
     "output_type": "execute_result"
    }
   ],
   "source": [
    "train[\"isr15\"] = train[\"isr15\"].apply(string_binary_to_boolean)\n",
    "train[\"isr15\"].head()"
   ]
  },
  {
   "cell_type": "code",
   "execution_count": 20,
   "id": "3e9a389c",
   "metadata": {
    "execution": {
     "iopub.execute_input": "2025-02-10T14:31:33.115767Z",
     "iopub.status.busy": "2025-02-10T14:31:33.115426Z",
     "iopub.status.idle": "2025-02-10T14:31:33.199047Z",
     "shell.execute_reply": "2025-02-10T14:31:33.197817Z"
    },
    "papermill": {
     "duration": 0.106607,
     "end_time": "2025-02-10T14:31:33.202329",
     "exception": false,
     "start_time": "2025-02-10T14:31:33.095722",
     "status": "completed"
    },
    "tags": []
   },
   "outputs": [],
   "source": [
    "train[\"isbl\"] = train[\"isbl\"].apply(string_binary_to_boolean)\n",
    "train[\"isgl\"] = train[\"isgl\"].apply(string_binary_to_boolean)\n",
    "train[\"iszankoku\"] = train[\"iszankoku\"].apply(string_binary_to_boolean)\n",
    "train[\"istensei\"] = train[\"istensei\"].apply(string_binary_to_boolean)\n",
    "train[\"istenni\"] = train[\"istenni\"].apply(string_binary_to_boolean)"
   ]
  },
  {
   "cell_type": "code",
   "execution_count": 21,
   "id": "47785208",
   "metadata": {
    "execution": {
     "iopub.execute_input": "2025-02-10T14:31:33.242658Z",
     "iopub.status.busy": "2025-02-10T14:31:33.242254Z",
     "iopub.status.idle": "2025-02-10T14:31:33.261313Z",
     "shell.execute_reply": "2025-02-10T14:31:33.260176Z"
    },
    "papermill": {
     "duration": 0.040809,
     "end_time": "2025-02-10T14:31:33.263660",
     "exception": false,
     "start_time": "2025-02-10T14:31:33.222851",
     "status": "completed"
    },
    "tags": []
   },
   "outputs": [
    {
     "data": {
      "text/plain": [
       "count    75544.000000\n",
       "mean        38.811646\n",
       "std         15.934917\n",
       "min          0.000000\n",
       "25%         30.000000\n",
       "50%         40.000000\n",
       "75%         49.000000\n",
       "max        100.000000\n",
       "Name: kaiwaritu, dtype: float64"
      ]
     },
     "execution_count": 21,
     "metadata": {},
     "output_type": "execute_result"
    }
   ],
   "source": [
    "train[\"kaiwaritu\"].describe()"
   ]
  },
  {
   "cell_type": "code",
   "execution_count": 22,
   "id": "2dfb6868",
   "metadata": {
    "execution": {
     "iopub.execute_input": "2025-02-10T14:31:33.302629Z",
     "iopub.status.busy": "2025-02-10T14:31:33.302267Z",
     "iopub.status.idle": "2025-02-10T14:31:33.316407Z",
     "shell.execute_reply": "2025-02-10T14:31:33.315348Z"
    },
    "papermill": {
     "duration": 0.037132,
     "end_time": "2025-02-10T14:31:33.318844",
     "exception": false,
     "start_time": "2025-02-10T14:31:33.281712",
     "status": "completed"
    },
    "tags": []
   },
   "outputs": [
    {
     "data": {
      "text/plain": [
       "count    75544.000000\n",
       "mean      3276.333599\n",
       "std       3109.036141\n",
       "min        147.666667\n",
       "25%       1645.197001\n",
       "50%       2612.881609\n",
       "75%       3858.321141\n",
       "max      63989.400000\n",
       "Name: length_per_story, dtype: float64"
      ]
     },
     "execution_count": 22,
     "metadata": {},
     "output_type": "execute_result"
    }
   ],
   "source": [
    "train[\"length_per_story\"].describe()"
   ]
  },
  {
   "cell_type": "code",
   "execution_count": 23,
   "id": "8a351c76",
   "metadata": {
    "execution": {
     "iopub.execute_input": "2025-02-10T14:31:33.359593Z",
     "iopub.status.busy": "2025-02-10T14:31:33.358943Z",
     "iopub.status.idle": "2025-02-10T14:31:33.373846Z",
     "shell.execute_reply": "2025-02-10T14:31:33.372692Z"
    },
    "papermill": {
     "duration": 0.039805,
     "end_time": "2025-02-10T14:31:33.376437",
     "exception": false,
     "start_time": "2025-02-10T14:31:33.336632",
     "status": "completed"
    },
    "tags": []
   },
   "outputs": [
    {
     "data": {
      "text/plain": [
       "count    75544.000000\n",
       "mean         5.841728\n",
       "std         18.169237\n",
       "min          0.000000\n",
       "25%          0.529709\n",
       "50%          1.121730\n",
       "75%          4.266138\n",
       "max        762.803118\n",
       "Name: time_per_story_submission, dtype: float64"
      ]
     },
     "execution_count": 23,
     "metadata": {},
     "output_type": "execute_result"
    }
   ],
   "source": [
    "train[\"time_per_story_submission\"].describe()"
   ]
  },
  {
   "cell_type": "markdown",
   "id": "01c159bc",
   "metadata": {
    "papermill": {
     "duration": 0.021664,
     "end_time": "2025-02-10T14:31:33.429210",
     "exception": false,
     "start_time": "2025-02-10T14:31:33.407546",
     "status": "completed"
    },
    "tags": []
   },
   "source": [
    "## Adding a \"no. novels written by author\" column"
   ]
  },
  {
   "cell_type": "markdown",
   "id": "de5d1d46",
   "metadata": {
    "papermill": {
     "duration": 0.017373,
     "end_time": "2025-02-10T14:31:33.467112",
     "exception": false,
     "start_time": "2025-02-10T14:31:33.449739",
     "status": "completed"
    },
    "tags": []
   },
   "source": [
    "Assign the number of novels written by an author to a separate column + randomly pick some rows and set to \"1\" so that the model doesn't rely on this feature too much (if the test data consists of mostly new authors, then this won't be helpful)"
   ]
  },
  {
   "cell_type": "code",
   "execution_count": 24,
   "id": "eaeb97af",
   "metadata": {
    "execution": {
     "iopub.execute_input": "2025-02-10T14:31:33.504311Z",
     "iopub.status.busy": "2025-02-10T14:31:33.503889Z",
     "iopub.status.idle": "2025-02-10T14:31:33.519038Z",
     "shell.execute_reply": "2025-02-10T14:31:33.518157Z"
    },
    "papermill": {
     "duration": 0.036609,
     "end_time": "2025-02-10T14:31:33.521437",
     "exception": false,
     "start_time": "2025-02-10T14:31:33.484828",
     "status": "completed"
    },
    "tags": []
   },
   "outputs": [],
   "source": [
    "train.fillna({\"writer\":\"NO_AUTHOR\"}, inplace=True)"
   ]
  },
  {
   "cell_type": "code",
   "execution_count": 25,
   "id": "fd3fa4e9",
   "metadata": {
    "execution": {
     "iopub.execute_input": "2025-02-10T14:31:33.558659Z",
     "iopub.status.busy": "2025-02-10T14:31:33.558269Z",
     "iopub.status.idle": "2025-02-10T14:31:33.631697Z",
     "shell.execute_reply": "2025-02-10T14:31:33.630645Z"
    },
    "papermill": {
     "duration": 0.094928,
     "end_time": "2025-02-10T14:31:33.634205",
     "exception": false,
     "start_time": "2025-02-10T14:31:33.539277",
     "status": "completed"
    },
    "tags": []
   },
   "outputs": [],
   "source": [
    "train['writer_novels_written']=train['writer'].map(train['writer'].value_counts())\n",
    "train.loc[train.sample(10000).index, 'writer_novels_written'] = 1\n",
    "train.loc[train['writer'] == \"NO_AUTHOR\", \"writer_novels_written\"] = 1 # Since \"no author\" isn't an actual author"
   ]
  },
  {
   "cell_type": "code",
   "execution_count": 26,
   "id": "9bca471d",
   "metadata": {
    "execution": {
     "iopub.execute_input": "2025-02-10T14:31:33.672052Z",
     "iopub.status.busy": "2025-02-10T14:31:33.671688Z",
     "iopub.status.idle": "2025-02-10T14:31:33.684540Z",
     "shell.execute_reply": "2025-02-10T14:31:33.683391Z"
    },
    "papermill": {
     "duration": 0.034193,
     "end_time": "2025-02-10T14:31:33.686824",
     "exception": false,
     "start_time": "2025-02-10T14:31:33.652631",
     "status": "completed"
    },
    "tags": []
   },
   "outputs": [
    {
     "data": {
      "text/plain": [
       "count    75544.000000\n",
       "mean         5.715398\n",
       "std         10.430317\n",
       "min          1.000000\n",
       "25%          1.000000\n",
       "50%          2.000000\n",
       "75%          6.000000\n",
       "max        117.000000\n",
       "Name: writer_novels_written, dtype: float64"
      ]
     },
     "execution_count": 26,
     "metadata": {},
     "output_type": "execute_result"
    }
   ],
   "source": [
    "train['writer_novels_written'].describe()"
   ]
  },
  {
   "cell_type": "markdown",
   "id": "192dc3b8",
   "metadata": {
    "papermill": {
     "duration": 0.018317,
     "end_time": "2025-02-10T14:31:33.723562",
     "exception": false,
     "start_time": "2025-02-10T14:31:33.705245",
     "status": "completed"
    },
    "tags": []
   },
   "source": [
    "## Add a \"title length\" column"
   ]
  },
  {
   "cell_type": "code",
   "execution_count": 27,
   "id": "d50f54c4",
   "metadata": {
    "execution": {
     "iopub.execute_input": "2025-02-10T14:31:33.761391Z",
     "iopub.status.busy": "2025-02-10T14:31:33.760973Z",
     "iopub.status.idle": "2025-02-10T14:31:33.790846Z",
     "shell.execute_reply": "2025-02-10T14:31:33.789936Z"
    },
    "papermill": {
     "duration": 0.051606,
     "end_time": "2025-02-10T14:31:33.793220",
     "exception": false,
     "start_time": "2025-02-10T14:31:33.741614",
     "status": "completed"
    },
    "tags": []
   },
   "outputs": [],
   "source": [
    "train[\"title_length\"] = train[\"title\"].apply(len)"
   ]
  },
  {
   "cell_type": "markdown",
   "id": "0d63edda",
   "metadata": {
    "papermill": {
     "duration": 0.018074,
     "end_time": "2025-02-10T14:31:33.830355",
     "exception": false,
     "start_time": "2025-02-10T14:31:33.812281",
     "status": "completed"
    },
    "tags": []
   },
   "source": [
    "## Count kanji, hiragana, katakana in title"
   ]
  },
  {
   "cell_type": "code",
   "execution_count": 28,
   "id": "1d38b44e",
   "metadata": {
    "execution": {
     "iopub.execute_input": "2025-02-10T14:31:33.868575Z",
     "iopub.status.busy": "2025-02-10T14:31:33.868194Z",
     "iopub.status.idle": "2025-02-10T14:31:34.390570Z",
     "shell.execute_reply": "2025-02-10T14:31:34.389606Z"
    },
    "papermill": {
     "duration": 0.544308,
     "end_time": "2025-02-10T14:31:34.393035",
     "exception": false,
     "start_time": "2025-02-10T14:31:33.848727",
     "status": "completed"
    },
    "tags": []
   },
   "outputs": [],
   "source": [
    "import re\n",
    "\n",
    "def count_kanji(text):\n",
    "    return len(re.findall(r'[\\u4E00-\\u9FFF]', text))/len(text)\n",
    "\n",
    "def count_hiragana(text):\n",
    "    return len(re.findall(r'[\\u3040-\\u309F]', text))/len(text)\n",
    "\n",
    "def count_katakana(text):\n",
    "    return len(re.findall(r'[\\u30A0-\\u30FF]', text))/len(text)\n",
    "\n",
    "train[\"title_kanji\"] = train[\"title\"].apply(count_kanji)\n",
    "train[\"title_hiragana\"] = train[\"title\"].apply(count_hiragana)\n",
    "train[\"title_katakana\"] = train[\"title\"].apply(count_katakana)"
   ]
  },
  {
   "cell_type": "code",
   "execution_count": 29,
   "id": "70de9b96",
   "metadata": {
    "execution": {
     "iopub.execute_input": "2025-02-10T14:31:34.431690Z",
     "iopub.status.busy": "2025-02-10T14:31:34.431306Z",
     "iopub.status.idle": "2025-02-10T14:31:34.449977Z",
     "shell.execute_reply": "2025-02-10T14:31:34.448925Z"
    },
    "papermill": {
     "duration": 0.04066,
     "end_time": "2025-02-10T14:31:34.452237",
     "exception": false,
     "start_time": "2025-02-10T14:31:34.411577",
     "status": "completed"
    },
    "tags": []
   },
   "outputs": [
    {
     "data": {
      "text/html": [
       "<div>\n",
       "<style scoped>\n",
       "    .dataframe tbody tr th:only-of-type {\n",
       "        vertical-align: middle;\n",
       "    }\n",
       "\n",
       "    .dataframe tbody tr th {\n",
       "        vertical-align: top;\n",
       "    }\n",
       "\n",
       "    .dataframe thead th {\n",
       "        text-align: right;\n",
       "    }\n",
       "</style>\n",
       "<table border=\"1\" class=\"dataframe\">\n",
       "  <thead>\n",
       "    <tr style=\"text-align: right;\">\n",
       "      <th></th>\n",
       "      <th>title</th>\n",
       "      <th>title_kanji</th>\n",
       "      <th>title_hiragana</th>\n",
       "      <th>title_katakana</th>\n",
       "    </tr>\n",
       "  </thead>\n",
       "  <tbody>\n",
       "    <tr>\n",
       "      <th>0</th>\n",
       "      <td>ティファレシア　～風信子の絆～</td>\n",
       "      <td>0.266667</td>\n",
       "      <td>0.066667</td>\n",
       "      <td>0.466667</td>\n",
       "    </tr>\n",
       "    <tr>\n",
       "      <th>1</th>\n",
       "      <td>大聖女様　世を謀る！</td>\n",
       "      <td>0.600000</td>\n",
       "      <td>0.200000</td>\n",
       "      <td>0.000000</td>\n",
       "    </tr>\n",
       "    <tr>\n",
       "      <th>2</th>\n",
       "      <td>どっとろくはんかく.おるた</td>\n",
       "      <td>0.000000</td>\n",
       "      <td>0.923077</td>\n",
       "      <td>0.000000</td>\n",
       "    </tr>\n",
       "    <tr>\n",
       "      <th>3</th>\n",
       "      <td>私情まみれのお仕事　侵入編</td>\n",
       "      <td>0.538462</td>\n",
       "      <td>0.384615</td>\n",
       "      <td>0.000000</td>\n",
       "    </tr>\n",
       "    <tr>\n",
       "      <th>4</th>\n",
       "      <td>メイロボっ</td>\n",
       "      <td>0.000000</td>\n",
       "      <td>0.200000</td>\n",
       "      <td>0.800000</td>\n",
       "    </tr>\n",
       "  </tbody>\n",
       "</table>\n",
       "</div>"
      ],
      "text/plain": [
       "             title  title_kanji  title_hiragana  title_katakana\n",
       "0  ティファレシア　～風信子の絆～     0.266667        0.066667        0.466667\n",
       "1       大聖女様　世を謀る！     0.600000        0.200000        0.000000\n",
       "2    どっとろくはんかく.おるた     0.000000        0.923077        0.000000\n",
       "3    私情まみれのお仕事　侵入編     0.538462        0.384615        0.000000\n",
       "4            メイロボっ     0.000000        0.200000        0.800000"
      ]
     },
     "execution_count": 29,
     "metadata": {},
     "output_type": "execute_result"
    }
   ],
   "source": [
    "train[[\"title\",\"title_kanji\",\"title_hiragana\",\"title_katakana\"]].head()"
   ]
  },
  {
   "cell_type": "markdown",
   "id": "5c3317be",
   "metadata": {
    "papermill": {
     "duration": 0.017665,
     "end_time": "2025-02-10T14:31:34.488065",
     "exception": false,
     "start_time": "2025-02-10T14:31:34.470400",
     "status": "completed"
    },
    "tags": []
   },
   "source": [
    "## Quantile transform\n",
    "\n",
    "Since there are a lot of outliers for many variables, quantile transformer will likely be better than standardscaler\n",
    "\n",
    "This is technically not needed when training xgboost (or other tree-based method) - the scaling of variables doesn't matter for these models, only the ordering of values."
   ]
  },
  {
   "cell_type": "code",
   "execution_count": 30,
   "id": "5853c8c7",
   "metadata": {
    "execution": {
     "iopub.execute_input": "2025-02-10T14:31:34.542459Z",
     "iopub.status.busy": "2025-02-10T14:31:34.542025Z",
     "iopub.status.idle": "2025-02-10T14:31:36.247155Z",
     "shell.execute_reply": "2025-02-10T14:31:36.245917Z"
    },
    "papermill": {
     "duration": 1.727568,
     "end_time": "2025-02-10T14:31:36.249628",
     "exception": false,
     "start_time": "2025-02-10T14:31:34.522060",
     "status": "completed"
    },
    "tags": []
   },
   "outputs": [],
   "source": [
    "from sklearn.preprocessing import QuantileTransformer\n",
    "\n",
    "scaler = QuantileTransformer() # Technically not needed for xgboost and other tree-based models\n",
    "train[[\"kaiwaritu\",\"length_per_story\",\"time_per_story_submission\",\"writer_novels_written\",\"sasie_cnt_per_story\",\"title_length\",\"title_kanji\",\"title_hiragana\",\"title_katakana\"]] = scaler.fit_transform(train[[\"kaiwaritu\",\"length_per_story\",\"time_per_story_submission\",\"writer_novels_written\",\"sasie_cnt_per_story\",\"title_length\",\"title_kanji\",\"title_hiragana\",\"title_katakana\"]].to_numpy())"
   ]
  },
  {
   "cell_type": "code",
   "execution_count": 31,
   "id": "3b35a7f3",
   "metadata": {
    "execution": {
     "iopub.execute_input": "2025-02-10T14:31:36.287763Z",
     "iopub.status.busy": "2025-02-10T14:31:36.286477Z",
     "iopub.status.idle": "2025-02-10T14:31:36.302344Z",
     "shell.execute_reply": "2025-02-10T14:31:36.301156Z"
    },
    "papermill": {
     "duration": 0.037185,
     "end_time": "2025-02-10T14:31:36.304623",
     "exception": false,
     "start_time": "2025-02-10T14:31:36.267438",
     "status": "completed"
    },
    "tags": []
   },
   "outputs": [
    {
     "data": {
      "text/plain": [
       "count    75544.000000\n",
       "mean         0.500659\n",
       "std          0.290672\n",
       "min          0.000000\n",
       "25%          0.248385\n",
       "50%          0.500238\n",
       "75%          0.754235\n",
       "max          1.000000\n",
       "Name: length_per_story, dtype: float64"
      ]
     },
     "execution_count": 31,
     "metadata": {},
     "output_type": "execute_result"
    }
   ],
   "source": [
    "train[\"length_per_story\"].describe()"
   ]
  },
  {
   "cell_type": "code",
   "execution_count": 32,
   "id": "b3f8bc5e",
   "metadata": {
    "execution": {
     "iopub.execute_input": "2025-02-10T14:31:36.342331Z",
     "iopub.status.busy": "2025-02-10T14:31:36.341936Z",
     "iopub.status.idle": "2025-02-10T14:31:36.355488Z",
     "shell.execute_reply": "2025-02-10T14:31:36.354387Z"
    },
    "papermill": {
     "duration": 0.034864,
     "end_time": "2025-02-10T14:31:36.357716",
     "exception": false,
     "start_time": "2025-02-10T14:31:36.322852",
     "status": "completed"
    },
    "tags": []
   },
   "outputs": [
    {
     "data": {
      "text/plain": [
       "count    75544.000000\n",
       "mean         0.502844\n",
       "std          0.288355\n",
       "min          0.000000\n",
       "25%          0.261261\n",
       "50%          0.516016\n",
       "75%          0.755255\n",
       "max          1.000000\n",
       "Name: kaiwaritu, dtype: float64"
      ]
     },
     "execution_count": 32,
     "metadata": {},
     "output_type": "execute_result"
    }
   ],
   "source": [
    "train[\"kaiwaritu\"].describe()"
   ]
  },
  {
   "cell_type": "code",
   "execution_count": 33,
   "id": "44f6beed",
   "metadata": {
    "execution": {
     "iopub.execute_input": "2025-02-10T14:31:36.396183Z",
     "iopub.status.busy": "2025-02-10T14:31:36.395156Z",
     "iopub.status.idle": "2025-02-10T14:31:36.408900Z",
     "shell.execute_reply": "2025-02-10T14:31:36.407815Z"
    },
    "papermill": {
     "duration": 0.035535,
     "end_time": "2025-02-10T14:31:36.411429",
     "exception": false,
     "start_time": "2025-02-10T14:31:36.375894",
     "status": "completed"
    },
    "tags": []
   },
   "outputs": [
    {
     "data": {
      "text/plain": [
       "count    75544.000000\n",
       "mean         0.498784\n",
       "std          0.289101\n",
       "min          0.000000\n",
       "25%          0.249447\n",
       "50%          0.496211\n",
       "75%          0.751817\n",
       "max          1.000000\n",
       "Name: time_per_story_submission, dtype: float64"
      ]
     },
     "execution_count": 33,
     "metadata": {},
     "output_type": "execute_result"
    }
   ],
   "source": [
    "train[\"time_per_story_submission\"].describe()"
   ]
  },
  {
   "cell_type": "code",
   "execution_count": 34,
   "id": "ee318d51",
   "metadata": {
    "execution": {
     "iopub.execute_input": "2025-02-10T14:31:36.450823Z",
     "iopub.status.busy": "2025-02-10T14:31:36.450425Z",
     "iopub.status.idle": "2025-02-10T14:31:36.463400Z",
     "shell.execute_reply": "2025-02-10T14:31:36.462396Z"
    },
    "papermill": {
     "duration": 0.034623,
     "end_time": "2025-02-10T14:31:36.465633",
     "exception": false,
     "start_time": "2025-02-10T14:31:36.431010",
     "status": "completed"
    },
    "tags": []
   },
   "outputs": [
    {
     "data": {
      "text/plain": [
       "count    75544.000000\n",
       "mean         0.504074\n",
       "std          0.289380\n",
       "min          0.000000\n",
       "25%          0.248248\n",
       "50%          0.509510\n",
       "75%          0.759760\n",
       "max          1.000000\n",
       "Name: title_length, dtype: float64"
      ]
     },
     "execution_count": 34,
     "metadata": {},
     "output_type": "execute_result"
    }
   ],
   "source": [
    "train[\"title_length\"].describe()"
   ]
  },
  {
   "cell_type": "code",
   "execution_count": 35,
   "id": "bbf32186",
   "metadata": {
    "execution": {
     "iopub.execute_input": "2025-02-10T14:31:36.503809Z",
     "iopub.status.busy": "2025-02-10T14:31:36.503410Z",
     "iopub.status.idle": "2025-02-10T14:31:36.511661Z",
     "shell.execute_reply": "2025-02-10T14:31:36.510600Z"
    },
    "papermill": {
     "duration": 0.030108,
     "end_time": "2025-02-10T14:31:36.513925",
     "exception": false,
     "start_time": "2025-02-10T14:31:36.483817",
     "status": "completed"
    },
    "tags": []
   },
   "outputs": [
    {
     "data": {
      "text/plain": [
       "0           VRゲーム〔SF〕\n",
       "1             異世界〔恋愛〕\n",
       "2            現実世界〔恋愛〕\n",
       "3    ローファンタジー〔ファンタジー〕\n",
       "4           コメディー〔文芸〕\n",
       "Name: genre, dtype: object"
      ]
     },
     "execution_count": 35,
     "metadata": {},
     "output_type": "execute_result"
    }
   ],
   "source": [
    "train[\"genre\"].head()"
   ]
  },
  {
   "cell_type": "markdown",
   "id": "e3cf5d48",
   "metadata": {
    "papermill": {
     "duration": 0.018285,
     "end_time": "2025-02-10T14:31:36.550788",
     "exception": false,
     "start_time": "2025-02-10T14:31:36.532503",
     "status": "completed"
    },
    "tags": []
   },
   "source": [
    "## One-hot encode the genre"
   ]
  },
  {
   "cell_type": "code",
   "execution_count": 36,
   "id": "a4e82823",
   "metadata": {
    "execution": {
     "iopub.execute_input": "2025-02-10T14:31:36.589837Z",
     "iopub.status.busy": "2025-02-10T14:31:36.589428Z",
     "iopub.status.idle": "2025-02-10T14:31:36.618636Z",
     "shell.execute_reply": "2025-02-10T14:31:36.617423Z"
    },
    "papermill": {
     "duration": 0.051653,
     "end_time": "2025-02-10T14:31:36.621244",
     "exception": false,
     "start_time": "2025-02-10T14:31:36.569591",
     "status": "completed"
    },
    "tags": []
   },
   "outputs": [],
   "source": [
    "from sklearn.preprocessing import OneHotEncoder\n",
    "genre_encoder = OneHotEncoder(handle_unknown='ignore')\n",
    "genres_transformed = genre_encoder.fit_transform(train[[\"genre\"]])"
   ]
  },
  {
   "cell_type": "code",
   "execution_count": 37,
   "id": "3e30bb4e",
   "metadata": {
    "execution": {
     "iopub.execute_input": "2025-02-10T14:31:36.660255Z",
     "iopub.status.busy": "2025-02-10T14:31:36.659811Z",
     "iopub.status.idle": "2025-02-10T14:31:36.666514Z",
     "shell.execute_reply": "2025-02-10T14:31:36.665454Z"
    },
    "papermill": {
     "duration": 0.028722,
     "end_time": "2025-02-10T14:31:36.668701",
     "exception": false,
     "start_time": "2025-02-10T14:31:36.639979",
     "status": "completed"
    },
    "tags": []
   },
   "outputs": [
    {
     "data": {
      "text/plain": [
       "<Compressed Sparse Row sparse matrix of dtype 'float64'\n",
       "\twith 75544 stored elements and shape (75544, 21)>"
      ]
     },
     "execution_count": 37,
     "metadata": {},
     "output_type": "execute_result"
    }
   ],
   "source": [
    "genres_transformed"
   ]
  },
  {
   "cell_type": "code",
   "execution_count": 38,
   "id": "99d07089",
   "metadata": {
    "execution": {
     "iopub.execute_input": "2025-02-10T14:31:36.708045Z",
     "iopub.status.busy": "2025-02-10T14:31:36.707643Z",
     "iopub.status.idle": "2025-02-10T14:31:36.739335Z",
     "shell.execute_reply": "2025-02-10T14:31:36.738180Z"
    },
    "papermill": {
     "duration": 0.054328,
     "end_time": "2025-02-10T14:31:36.741627",
     "exception": false,
     "start_time": "2025-02-10T14:31:36.687299",
     "status": "completed"
    },
    "tags": []
   },
   "outputs": [
    {
     "data": {
      "text/plain": [
       "array([[1., 0., 0., ..., 0., 0., 0.],\n",
       "       [0., 0., 0., ..., 0., 0., 0.],\n",
       "       [0., 0., 0., ..., 0., 0., 0.],\n",
       "       ...,\n",
       "       [0., 0., 0., ..., 0., 0., 0.],\n",
       "       [0., 0., 0., ..., 0., 0., 0.],\n",
       "       [0., 0., 0., ..., 0., 0., 0.]])"
      ]
     },
     "execution_count": 38,
     "metadata": {},
     "output_type": "execute_result"
    }
   ],
   "source": [
    "genres_transformed.toarray()"
   ]
  },
  {
   "cell_type": "code",
   "execution_count": 39,
   "id": "9a11b729",
   "metadata": {
    "execution": {
     "iopub.execute_input": "2025-02-10T14:31:36.781327Z",
     "iopub.status.busy": "2025-02-10T14:31:36.780188Z",
     "iopub.status.idle": "2025-02-10T14:31:37.110607Z",
     "shell.execute_reply": "2025-02-10T14:31:37.109564Z"
    },
    "papermill": {
     "duration": 0.352833,
     "end_time": "2025-02-10T14:31:37.113182",
     "exception": false,
     "start_time": "2025-02-10T14:31:36.760349",
     "status": "completed"
    },
    "tags": []
   },
   "outputs": [],
   "source": [
    "train[\"genre\"] = genres_transformed.toarray().tolist()"
   ]
  },
  {
   "cell_type": "code",
   "execution_count": 40,
   "id": "c47aedb1",
   "metadata": {
    "execution": {
     "iopub.execute_input": "2025-02-10T14:31:37.152405Z",
     "iopub.status.busy": "2025-02-10T14:31:37.151968Z",
     "iopub.status.idle": "2025-02-10T14:31:37.160791Z",
     "shell.execute_reply": "2025-02-10T14:31:37.159680Z"
    },
    "papermill": {
     "duration": 0.030904,
     "end_time": "2025-02-10T14:31:37.163033",
     "exception": false,
     "start_time": "2025-02-10T14:31:37.132129",
     "status": "completed"
    },
    "tags": []
   },
   "outputs": [
    {
     "data": {
      "text/plain": [
       "0    [1.0, 0.0, 0.0, 0.0, 0.0, 0.0, 0.0, 0.0, 0.0, ...\n",
       "1    [0.0, 0.0, 0.0, 0.0, 0.0, 0.0, 0.0, 0.0, 0.0, ...\n",
       "2    [0.0, 0.0, 0.0, 0.0, 0.0, 0.0, 0.0, 0.0, 0.0, ...\n",
       "3    [0.0, 0.0, 0.0, 0.0, 0.0, 0.0, 0.0, 0.0, 0.0, ...\n",
       "4    [0.0, 0.0, 0.0, 0.0, 1.0, 0.0, 0.0, 0.0, 0.0, ...\n",
       "Name: genre, dtype: object"
      ]
     },
     "execution_count": 40,
     "metadata": {},
     "output_type": "execute_result"
    }
   ],
   "source": [
    "train[\"genre\"].head()"
   ]
  },
  {
   "cell_type": "markdown",
   "id": "ec5e2a71",
   "metadata": {
    "papermill": {
     "duration": 0.018699,
     "end_time": "2025-02-10T14:31:37.200690",
     "exception": false,
     "start_time": "2025-02-10T14:31:37.181991",
     "status": "completed"
    },
    "tags": []
   },
   "source": [
    "## Text vectorization\n",
    "Kind of non-standard since it's Japanese, we need a special tokenizer - we will use nagisa"
   ]
  },
  {
   "cell_type": "code",
   "execution_count": 41,
   "id": "e2157255",
   "metadata": {
    "execution": {
     "iopub.execute_input": "2025-02-10T14:31:37.239786Z",
     "iopub.status.busy": "2025-02-10T14:31:37.239434Z",
     "iopub.status.idle": "2025-02-10T14:31:49.643786Z",
     "shell.execute_reply": "2025-02-10T14:31:49.642454Z"
    },
    "papermill": {
     "duration": 12.427023,
     "end_time": "2025-02-10T14:31:49.646445",
     "exception": false,
     "start_time": "2025-02-10T14:31:37.219422",
     "status": "completed"
    },
    "tags": []
   },
   "outputs": [
    {
     "name": "stdout",
     "output_type": "stream",
     "text": [
      "Collecting nagisa\r\n",
      "  Downloading nagisa-0.2.11-cp310-cp310-manylinux_2_5_x86_64.manylinux1_x86_64.manylinux_2_17_x86_64.manylinux2014_x86_64.whl.metadata (6.6 kB)\r\n",
      "Requirement already satisfied: six in /opt/conda/lib/python3.10/site-packages (from nagisa) (1.16.0)\r\n",
      "Requirement already satisfied: numpy in /opt/conda/lib/python3.10/site-packages (from nagisa) (1.26.4)\r\n",
      "Collecting DyNet38 (from nagisa)\r\n",
      "  Downloading dyNET38-2.2-cp310-cp310-manylinux_2_17_x86_64.manylinux2014_x86_64.whl.metadata (6.5 kB)\r\n",
      "Requirement already satisfied: cython in /opt/conda/lib/python3.10/site-packages (from DyNet38->nagisa) (3.0.10)\r\n",
      "Downloading nagisa-0.2.11-cp310-cp310-manylinux_2_5_x86_64.manylinux1_x86_64.manylinux_2_17_x86_64.manylinux2014_x86_64.whl (21.6 MB)\r\n",
      "\u001b[2K   \u001b[90m━━━━━━━━━━━━━━━━━━━━━━━━━━━━━━━━━━━━━━━━\u001b[0m \u001b[32m21.6/21.6 MB\u001b[0m \u001b[31m63.6 MB/s\u001b[0m eta \u001b[36m0:00:00\u001b[0m\r\n",
      "\u001b[?25hDownloading dyNET38-2.2-cp310-cp310-manylinux_2_17_x86_64.manylinux2014_x86_64.whl (6.7 MB)\r\n",
      "\u001b[2K   \u001b[90m━━━━━━━━━━━━━━━━━━━━━━━━━━━━━━━━━━━━━━━━\u001b[0m \u001b[32m6.7/6.7 MB\u001b[0m \u001b[31m91.0 MB/s\u001b[0m eta \u001b[36m0:00:00\u001b[0m\r\n",
      "\u001b[?25hInstalling collected packages: DyNet38, nagisa\r\n",
      "Successfully installed DyNet38-2.2 nagisa-0.2.11\r\n"
     ]
    }
   ],
   "source": [
    "!pip install nagisa"
   ]
  },
  {
   "cell_type": "code",
   "execution_count": 42,
   "id": "b8addf5f",
   "metadata": {
    "execution": {
     "iopub.execute_input": "2025-02-10T14:31:49.687891Z",
     "iopub.status.busy": "2025-02-10T14:31:49.687471Z",
     "iopub.status.idle": "2025-02-10T14:38:20.786232Z",
     "shell.execute_reply": "2025-02-10T14:38:20.785267Z"
    },
    "papermill": {
     "duration": 391.122334,
     "end_time": "2025-02-10T14:38:20.788811",
     "exception": false,
     "start_time": "2025-02-10T14:31:49.666477",
     "status": "completed"
    },
    "tags": []
   },
   "outputs": [
    {
     "name": "stderr",
     "output_type": "stream",
     "text": [
      "/opt/conda/lib/python3.10/site-packages/sklearn/feature_extraction/text.py:528: UserWarning: The parameter 'token_pattern' will not be used since 'tokenizer' is not None'\n",
      "  warnings.warn(\n"
     ]
    }
   ],
   "source": [
    "# https://investigate.ai/text-analysis/how-to-make-scikit-learn-natural-language-processing-work-with-japanese-chinese/\n",
    "from sklearn.feature_extraction.text import TfidfVectorizer\n",
    "import nagisa\n",
    "\n",
    "def tokenize_jp(doc):\n",
    "    doc = nagisa.tagging(doc)\n",
    "    return doc.words\n",
    "\n",
    "title_vectorizer = TfidfVectorizer(max_features=2048, tokenizer=tokenize_jp)\n",
    "title_vectorizer = title_vectorizer.fit(train[\"title\"]) # This will take a couple minutes (and might take a bit of RAM)\n",
    "train[\"vectorized_title\"] = train[\"title\"].apply(lambda x : title_vectorizer.transform([x]).toarray()[0])"
   ]
  },
  {
   "cell_type": "code",
   "execution_count": 43,
   "id": "c67ade3d",
   "metadata": {
    "execution": {
     "iopub.execute_input": "2025-02-10T14:38:20.831325Z",
     "iopub.status.busy": "2025-02-10T14:38:20.830625Z",
     "iopub.status.idle": "2025-02-10T14:38:20.839457Z",
     "shell.execute_reply": "2025-02-10T14:38:20.838253Z"
    },
    "papermill": {
     "duration": 0.031734,
     "end_time": "2025-02-10T14:38:20.841543",
     "exception": false,
     "start_time": "2025-02-10T14:38:20.809809",
     "status": "completed"
    },
    "tags": []
   },
   "outputs": [
    {
     "data": {
      "text/plain": [
       "0    ティファレシア　～風信子の絆～\n",
       "1         大聖女様　世を謀る！\n",
       "2      どっとろくはんかく.おるた\n",
       "3      私情まみれのお仕事　侵入編\n",
       "4              メイロボっ\n",
       "Name: title, dtype: object"
      ]
     },
     "execution_count": 43,
     "metadata": {},
     "output_type": "execute_result"
    }
   ],
   "source": [
    "train[\"title\"].head()"
   ]
  },
  {
   "cell_type": "code",
   "execution_count": 44,
   "id": "275cdfb3",
   "metadata": {
    "execution": {
     "iopub.execute_input": "2025-02-10T14:38:20.882655Z",
     "iopub.status.busy": "2025-02-10T14:38:20.882287Z",
     "iopub.status.idle": "2025-02-10T14:38:20.892136Z",
     "shell.execute_reply": "2025-02-10T14:38:20.891147Z"
    },
    "papermill": {
     "duration": 0.032607,
     "end_time": "2025-02-10T14:38:20.894043",
     "exception": false,
     "start_time": "2025-02-10T14:38:20.861436",
     "status": "completed"
    },
    "tags": []
   },
   "outputs": [
    {
     "data": {
      "text/plain": [
       "0    [0.0, 0.0, 0.0, 0.0, 0.0, 0.0, 0.0, 0.0, 0.0, ...\n",
       "1    [0.2865399535787667, 0.0, 0.0, 0.0, 0.0, 0.0, ...\n",
       "2    [0.0, 0.0, 0.0, 0.0, 0.0, 0.0, 0.0, 0.0, 0.0, ...\n",
       "3    [0.0, 0.0, 0.0, 0.0, 0.0, 0.0, 0.0, 0.0, 0.0, ...\n",
       "4    [0.0, 0.0, 0.0, 0.0, 0.0, 0.0, 0.0, 0.0, 0.0, ...\n",
       "Name: vectorized_title, dtype: object"
      ]
     },
     "execution_count": 44,
     "metadata": {},
     "output_type": "execute_result"
    }
   ],
   "source": [
    "train[\"vectorized_title\"].head()"
   ]
  },
  {
   "cell_type": "code",
   "execution_count": 45,
   "id": "2a7313e5",
   "metadata": {
    "execution": {
     "iopub.execute_input": "2025-02-10T14:38:20.936313Z",
     "iopub.status.busy": "2025-02-10T14:38:20.935380Z",
     "iopub.status.idle": "2025-02-10T14:38:20.942112Z",
     "shell.execute_reply": "2025-02-10T14:38:20.941095Z"
    },
    "papermill": {
     "duration": 0.0301,
     "end_time": "2025-02-10T14:38:20.944305",
     "exception": false,
     "start_time": "2025-02-10T14:38:20.914205",
     "status": "completed"
    },
    "tags": []
   },
   "outputs": [
    {
     "data": {
      "text/plain": [
       "(2048,)"
      ]
     },
     "execution_count": 45,
     "metadata": {},
     "output_type": "execute_result"
    }
   ],
   "source": [
    "train[\"vectorized_title\"].iloc[0].shape"
   ]
  },
  {
   "cell_type": "code",
   "execution_count": 46,
   "id": "f9f1056c",
   "metadata": {
    "execution": {
     "iopub.execute_input": "2025-02-10T14:38:20.986514Z",
     "iopub.status.busy": "2025-02-10T14:38:20.986102Z",
     "iopub.status.idle": "2025-02-10T14:38:20.994428Z",
     "shell.execute_reply": "2025-02-10T14:38:20.993265Z"
    },
    "papermill": {
     "duration": 0.032227,
     "end_time": "2025-02-10T14:38:20.996668",
     "exception": false,
     "start_time": "2025-02-10T14:38:20.964441",
     "status": "completed"
    },
    "tags": []
   },
   "outputs": [
    {
     "name": "stdout",
     "output_type": "stream",
     "text": [
      "5\n",
      "6\n",
      "2\n",
      "5\n",
      "1\n",
      "11\n",
      "13\n",
      "6\n",
      "2\n",
      "1\n",
      "5\n",
      "4\n",
      "8\n",
      "29\n",
      "1\n",
      "10\n",
      "20\n",
      "3\n",
      "5\n",
      "5\n",
      "9\n",
      "2\n",
      "9\n",
      "13\n",
      "10\n"
     ]
    }
   ],
   "source": [
    "for i in range(25): # Making sure our embeddings are large enough to get some useful information\n",
    "    print(np.count_nonzero(train[\"vectorized_title\"].iloc[i]))"
   ]
  },
  {
   "cell_type": "code",
   "execution_count": 47,
   "id": "23b05cfb",
   "metadata": {
    "execution": {
     "iopub.execute_input": "2025-02-10T14:38:21.038976Z",
     "iopub.status.busy": "2025-02-10T14:38:21.038579Z",
     "iopub.status.idle": "2025-02-10T14:38:21.054414Z",
     "shell.execute_reply": "2025-02-10T14:38:21.053321Z"
    },
    "papermill": {
     "duration": 0.039938,
     "end_time": "2025-02-10T14:38:21.056776",
     "exception": false,
     "start_time": "2025-02-10T14:38:21.016838",
     "status": "completed"
    },
    "tags": []
   },
   "outputs": [
    {
     "data": {
      "text/plain": [
       "count     75544.000000\n",
       "mean       1987.118845\n",
       "std       12020.528996\n",
       "min           0.000000\n",
       "25%          12.000000\n",
       "50%          40.000000\n",
       "75%         290.000000\n",
       "max      878871.000000\n",
       "Name: global_point, dtype: float64"
      ]
     },
     "execution_count": 47,
     "metadata": {},
     "output_type": "execute_result"
    }
   ],
   "source": [
    "train[\"global_point\"].describe() # We can use relu as the final activation function when training neural network-based models"
   ]
  },
  {
   "cell_type": "markdown",
   "id": "47a3977a",
   "metadata": {
    "papermill": {
     "duration": 0.019913,
     "end_time": "2025-02-10T14:38:21.096715",
     "exception": false,
     "start_time": "2025-02-10T14:38:21.076802",
     "status": "completed"
    },
    "tags": []
   },
   "source": [
    "# Model training"
   ]
  },
  {
   "cell_type": "markdown",
   "id": "55c9a35a",
   "metadata": {
    "papermill": {
     "duration": 0.019452,
     "end_time": "2025-02-10T14:38:21.135892",
     "exception": false,
     "start_time": "2025-02-10T14:38:21.116440",
     "status": "completed"
    },
    "tags": []
   },
   "source": [
    "## Input definition\n",
    "\n",
    "- keywords: a 250-value long binary vector of keywords (most popular only)\n",
    "- genre: a 21-value long one-hot encoded vector\n",
    "- length_per_story: a scaled scalar\n",
    "- kaiwaritu: a scaled scalar\n",
    "- time_per_story_submission: a scaled scalar\n",
    "- isr15: binary\n",
    "- isbl: binary\n",
    "- isgl: binary\n",
    "- iszankoku: binary\n",
    "- istensei: binary\n",
    "- istenni: binary\n",
    "- writer_novels_written: a scaled scalar\n",
    "- sasie_cnt_per_story: a scaled scalar\n",
    "- title_length: a scaled scalar\n",
    "- title_kanji: a scaled scalar\n",
    "- title_hiragana: a scaled scalar\n",
    "- title_katakana: a scaled scalar\n",
    "- vectorized_title a 2048-value long vector\n",
    "\n",
    "250+21+15+2048=2334 features"
   ]
  },
  {
   "cell_type": "markdown",
   "id": "03ab9e78",
   "metadata": {
    "papermill": {
     "duration": 0.019536,
     "end_time": "2025-02-10T14:38:21.175324",
     "exception": false,
     "start_time": "2025-02-10T14:38:21.155788",
     "status": "completed"
    },
    "tags": []
   },
   "source": [
    "## Train-validation split"
   ]
  },
  {
   "cell_type": "code",
   "execution_count": 48,
   "id": "297c154c",
   "metadata": {
    "execution": {
     "iopub.execute_input": "2025-02-10T14:38:21.218778Z",
     "iopub.status.busy": "2025-02-10T14:38:21.218394Z",
     "iopub.status.idle": "2025-02-10T14:38:21.406331Z",
     "shell.execute_reply": "2025-02-10T14:38:21.405314Z"
    },
    "papermill": {
     "duration": 0.212856,
     "end_time": "2025-02-10T14:38:21.408865",
     "exception": false,
     "start_time": "2025-02-10T14:38:21.196009",
     "status": "completed"
    },
    "tags": []
   },
   "outputs": [],
   "source": [
    "from sklearn.model_selection import train_test_split\n",
    "train, valid = train_test_split(train, test_size=0.1, random_state=42)"
   ]
  },
  {
   "cell_type": "markdown",
   "id": "5225f866",
   "metadata": {
    "papermill": {
     "duration": 0.020286,
     "end_time": "2025-02-10T14:38:21.451356",
     "exception": false,
     "start_time": "2025-02-10T14:38:21.431070",
     "status": "completed"
    },
    "tags": []
   },
   "source": [
    "## Function for getting data from a dataframe\n",
    "\n",
    "More complicated than it should be due to the embeddings (some columns in the dataframe are not scalars and some are vectors so we need to flatten them)"
   ]
  },
  {
   "cell_type": "code",
   "execution_count": 49,
   "id": "062e49b2",
   "metadata": {
    "execution": {
     "iopub.execute_input": "2025-02-10T14:38:21.493840Z",
     "iopub.status.busy": "2025-02-10T14:38:21.493473Z",
     "iopub.status.idle": "2025-02-10T14:38:21.501304Z",
     "shell.execute_reply": "2025-02-10T14:38:21.500038Z"
    },
    "papermill": {
     "duration": 0.031828,
     "end_time": "2025-02-10T14:38:21.503525",
     "exception": false,
     "start_time": "2025-02-10T14:38:21.471697",
     "status": "completed"
    },
    "tags": []
   },
   "outputs": [],
   "source": [
    "def get_input_from_dataframe(input_dataframe):\n",
    "    input_dataframe[\"keyword_vector_flattened\"] = input_dataframe[\"keyword_vector\"].apply(lambda x: list(x))\n",
    "    input_dataframe[\"genre_flattened\"] = input_dataframe[\"genre\"].apply(lambda x: list(x))\n",
    "    input_dataframe[\"title_flattened\"] = input_dataframe[\"vectorized_title\"].apply(lambda x: list(x))\n",
    "    X = np.array(input_dataframe[\"keyword_vector_flattened\"].tolist())\n",
    "    X = np.hstack([X, np.array(input_dataframe[\"genre_flattened\"].tolist()), np.array(input_dataframe[\"title_flattened\"].tolist()), input_dataframe[[\"length_per_story\", \"kaiwaritu\",\"time_per_story_submission\",\"isr15\",\"isbl\",\"isgl\",\"iszankoku\",\"istensei\",\"istenni\", \"writer_novels_written\", \"sasie_cnt_per_story\",\"title_length\",\"title_kanji\",\"title_hiragana\",\"title_katakana\"]].values])\n",
    "    return X.astype('float32')"
   ]
  },
  {
   "cell_type": "code",
   "execution_count": 50,
   "id": "6d3e7f71",
   "metadata": {
    "execution": {
     "iopub.execute_input": "2025-02-10T14:38:21.546500Z",
     "iopub.status.busy": "2025-02-10T14:38:21.546069Z",
     "iopub.status.idle": "2025-02-10T14:39:04.123009Z",
     "shell.execute_reply": "2025-02-10T14:39:04.122073Z"
    },
    "papermill": {
     "duration": 42.601513,
     "end_time": "2025-02-10T14:39:04.125427",
     "exception": false,
     "start_time": "2025-02-10T14:38:21.523914",
     "status": "completed"
    },
    "tags": []
   },
   "outputs": [],
   "source": [
    "train_x = get_input_from_dataframe(train)\n",
    "valid_x = get_input_from_dataframe(valid)"
   ]
  },
  {
   "cell_type": "code",
   "execution_count": 51,
   "id": "e69cf62c",
   "metadata": {
    "execution": {
     "iopub.execute_input": "2025-02-10T14:39:04.168004Z",
     "iopub.status.busy": "2025-02-10T14:39:04.167113Z",
     "iopub.status.idle": "2025-02-10T14:39:04.173807Z",
     "shell.execute_reply": "2025-02-10T14:39:04.172872Z"
    },
    "papermill": {
     "duration": 0.030207,
     "end_time": "2025-02-10T14:39:04.175820",
     "exception": false,
     "start_time": "2025-02-10T14:39:04.145613",
     "status": "completed"
    },
    "tags": []
   },
   "outputs": [
    {
     "data": {
      "text/plain": [
       "(67989, 2334)"
      ]
     },
     "execution_count": 51,
     "metadata": {},
     "output_type": "execute_result"
    }
   ],
   "source": [
    "train_x.shape"
   ]
  },
  {
   "cell_type": "code",
   "execution_count": 52,
   "id": "9a6648e6",
   "metadata": {
    "execution": {
     "iopub.execute_input": "2025-02-10T14:39:04.218342Z",
     "iopub.status.busy": "2025-02-10T14:39:04.217679Z",
     "iopub.status.idle": "2025-02-10T14:39:04.224552Z",
     "shell.execute_reply": "2025-02-10T14:39:04.223442Z"
    },
    "papermill": {
     "duration": 0.030616,
     "end_time": "2025-02-10T14:39:04.226675",
     "exception": false,
     "start_time": "2025-02-10T14:39:04.196059",
     "status": "completed"
    },
    "tags": []
   },
   "outputs": [
    {
     "data": {
      "text/plain": [
       "(7555, 2334)"
      ]
     },
     "execution_count": 52,
     "metadata": {},
     "output_type": "execute_result"
    }
   ],
   "source": [
    "valid_x.shape"
   ]
  },
  {
   "cell_type": "code",
   "execution_count": 53,
   "id": "0866ab2e",
   "metadata": {
    "execution": {
     "iopub.execute_input": "2025-02-10T14:39:04.268990Z",
     "iopub.status.busy": "2025-02-10T14:39:04.268630Z",
     "iopub.status.idle": "2025-02-10T14:39:04.273963Z",
     "shell.execute_reply": "2025-02-10T14:39:04.272689Z"
    },
    "papermill": {
     "duration": 0.02892,
     "end_time": "2025-02-10T14:39:04.276066",
     "exception": false,
     "start_time": "2025-02-10T14:39:04.247146",
     "status": "completed"
    },
    "tags": []
   },
   "outputs": [],
   "source": [
    "train_y = train[\"global_point\"].to_numpy()\n",
    "valid_y = valid[\"global_point\"].to_numpy()"
   ]
  },
  {
   "cell_type": "code",
   "execution_count": 54,
   "id": "ce70b3a9",
   "metadata": {
    "execution": {
     "iopub.execute_input": "2025-02-10T14:39:04.319008Z",
     "iopub.status.busy": "2025-02-10T14:39:04.318265Z",
     "iopub.status.idle": "2025-02-10T14:39:04.324700Z",
     "shell.execute_reply": "2025-02-10T14:39:04.323693Z"
    },
    "papermill": {
     "duration": 0.03011,
     "end_time": "2025-02-10T14:39:04.326791",
     "exception": false,
     "start_time": "2025-02-10T14:39:04.296681",
     "status": "completed"
    },
    "tags": []
   },
   "outputs": [
    {
     "data": {
      "text/plain": [
       "(67989,)"
      ]
     },
     "execution_count": 54,
     "metadata": {},
     "output_type": "execute_result"
    }
   ],
   "source": [
    "train_y.shape"
   ]
  },
  {
   "cell_type": "code",
   "execution_count": 55,
   "id": "9da9b83e",
   "metadata": {
    "execution": {
     "iopub.execute_input": "2025-02-10T14:39:04.369342Z",
     "iopub.status.busy": "2025-02-10T14:39:04.368934Z",
     "iopub.status.idle": "2025-02-10T14:39:04.375986Z",
     "shell.execute_reply": "2025-02-10T14:39:04.374987Z"
    },
    "papermill": {
     "duration": 0.031396,
     "end_time": "2025-02-10T14:39:04.378389",
     "exception": false,
     "start_time": "2025-02-10T14:39:04.346993",
     "status": "completed"
    },
    "tags": []
   },
   "outputs": [
    {
     "data": {
      "text/plain": [
       "(7555,)"
      ]
     },
     "execution_count": 55,
     "metadata": {},
     "output_type": "execute_result"
    }
   ],
   "source": [
    "valid_y.shape"
   ]
  },
  {
   "cell_type": "markdown",
   "id": "dbb095a1",
   "metadata": {
    "papermill": {
     "duration": 0.019997,
     "end_time": "2025-02-10T14:39:04.419435",
     "exception": false,
     "start_time": "2025-02-10T14:39:04.399438",
     "status": "completed"
    },
    "tags": []
   },
   "source": [
    "## Custom parameters for xgboost"
   ]
  },
  {
   "cell_type": "code",
   "execution_count": 56,
   "id": "024252de",
   "metadata": {
    "execution": {
     "iopub.execute_input": "2025-02-10T14:39:04.462332Z",
     "iopub.status.busy": "2025-02-10T14:39:04.461661Z",
     "iopub.status.idle": "2025-02-10T14:39:04.771718Z",
     "shell.execute_reply": "2025-02-10T14:39:04.770596Z"
    },
    "papermill": {
     "duration": 0.333735,
     "end_time": "2025-02-10T14:39:04.774139",
     "exception": false,
     "start_time": "2025-02-10T14:39:04.440404",
     "status": "completed"
    },
    "tags": []
   },
   "outputs": [],
   "source": [
    "import xgboost as xgb\n",
    "\n",
    "custom_parameters = {\n",
    "    \"n_estimators\": 1000,\n",
    "    \"max_depth\": 6,\n",
    "    \"learning_rate\": 0.1,\n",
    "    \"early_stopping_rounds\": 10,\n",
    "    \"subsample\": 1.0,\n",
    "    \"colsample_bytree\": 0.8,\n",
    "    \"objective\": \"reg:squarederror\",\n",
    "    \"seed\": 42\n",
    "    \n",
    "}\n",
    "\n",
    "model = xgb.XGBRegressor(**custom_parameters)"
   ]
  },
  {
   "cell_type": "markdown",
   "id": "b70cb788",
   "metadata": {
    "papermill": {
     "duration": 0.020371,
     "end_time": "2025-02-10T14:39:04.815193",
     "exception": false,
     "start_time": "2025-02-10T14:39:04.794822",
     "status": "completed"
    },
    "tags": []
   },
   "source": [
    "## Log-transformation of the target variables\n",
    "\n",
    "\n",
    "\n",
    "\n",
    "\n",
    "*Note: the reason we are log-transforming instead of using xgboost's reg:squaredlogerror is that that function has issues when during training the predicted value is less than -1.*\n",
    "\n",
    "*I encountered this issue when experimenting with this dataset before, but when using manually log-transformed features it did not occur*\n"
   ]
  },
  {
   "cell_type": "code",
   "execution_count": 57,
   "id": "6b6e1d85",
   "metadata": {
    "execution": {
     "iopub.execute_input": "2025-02-10T14:39:04.858427Z",
     "iopub.status.busy": "2025-02-10T14:39:04.858029Z",
     "iopub.status.idle": "2025-02-10T14:39:04.864248Z",
     "shell.execute_reply": "2025-02-10T14:39:04.863167Z"
    },
    "papermill": {
     "duration": 0.029805,
     "end_time": "2025-02-10T14:39:04.866383",
     "exception": false,
     "start_time": "2025-02-10T14:39:04.836578",
     "status": "completed"
    },
    "tags": []
   },
   "outputs": [],
   "source": [
    "train_y_log = np.log1p(train_y)\n",
    "valid_y_log = np.log1p(valid_y)"
   ]
  },
  {
   "cell_type": "code",
   "execution_count": 58,
   "id": "dbede03d",
   "metadata": {
    "execution": {
     "iopub.execute_input": "2025-02-10T14:39:04.909174Z",
     "iopub.status.busy": "2025-02-10T14:39:04.908670Z",
     "iopub.status.idle": "2025-02-10T14:39:04.916157Z",
     "shell.execute_reply": "2025-02-10T14:39:04.915058Z"
    },
    "papermill": {
     "duration": 0.031605,
     "end_time": "2025-02-10T14:39:04.918406",
     "exception": false,
     "start_time": "2025-02-10T14:39:04.886801",
     "status": "completed"
    },
    "tags": []
   },
   "outputs": [
    {
     "data": {
      "text/plain": [
       "array([0.        , 0.        , 3.49650756, ..., 4.44265126, 0.        ,\n",
       "       0.        ])"
      ]
     },
     "execution_count": 58,
     "metadata": {},
     "output_type": "execute_result"
    }
   ],
   "source": [
    "train_y_log"
   ]
  },
  {
   "cell_type": "markdown",
   "id": "313bf13b",
   "metadata": {
    "papermill": {
     "duration": 0.020304,
     "end_time": "2025-02-10T14:39:04.959346",
     "exception": false,
     "start_time": "2025-02-10T14:39:04.939042",
     "status": "completed"
    },
    "tags": []
   },
   "source": [
    "## Model training"
   ]
  },
  {
   "cell_type": "code",
   "execution_count": 59,
   "id": "4de5288a",
   "metadata": {
    "execution": {
     "iopub.execute_input": "2025-02-10T14:39:05.002588Z",
     "iopub.status.busy": "2025-02-10T14:39:05.002229Z",
     "iopub.status.idle": "2025-02-10T14:43:13.127472Z",
     "shell.execute_reply": "2025-02-10T14:43:13.126375Z"
    },
    "papermill": {
     "duration": 248.149869,
     "end_time": "2025-02-10T14:43:13.129803",
     "exception": false,
     "start_time": "2025-02-10T14:39:04.979934",
     "status": "completed"
    },
    "tags": []
   },
   "outputs": [
    {
     "name": "stdout",
     "output_type": "stream",
     "text": [
      "[0]\tvalidation_0-rmse:2.39171\n",
      "[1]\tvalidation_0-rmse:2.33429\n",
      "[2]\tvalidation_0-rmse:2.28358\n",
      "[3]\tvalidation_0-rmse:2.22458\n",
      "[4]\tvalidation_0-rmse:2.17536\n",
      "[5]\tvalidation_0-rmse:2.13286\n",
      "[6]\tvalidation_0-rmse:2.09748\n",
      "[7]\tvalidation_0-rmse:2.07195\n",
      "[8]\tvalidation_0-rmse:2.04433\n",
      "[9]\tvalidation_0-rmse:2.01887\n",
      "[10]\tvalidation_0-rmse:1.99890\n",
      "[11]\tvalidation_0-rmse:1.98368\n",
      "[12]\tvalidation_0-rmse:1.96703\n",
      "[13]\tvalidation_0-rmse:1.94979\n",
      "[14]\tvalidation_0-rmse:1.93750\n",
      "[15]\tvalidation_0-rmse:1.92577\n",
      "[16]\tvalidation_0-rmse:1.91501\n",
      "[17]\tvalidation_0-rmse:1.90640\n",
      "[18]\tvalidation_0-rmse:1.89871\n",
      "[19]\tvalidation_0-rmse:1.89010\n",
      "[20]\tvalidation_0-rmse:1.88251\n",
      "[21]\tvalidation_0-rmse:1.87624\n",
      "[22]\tvalidation_0-rmse:1.87050\n",
      "[23]\tvalidation_0-rmse:1.86444\n",
      "[24]\tvalidation_0-rmse:1.85840\n",
      "[25]\tvalidation_0-rmse:1.85370\n",
      "[26]\tvalidation_0-rmse:1.84924\n",
      "[27]\tvalidation_0-rmse:1.84491\n",
      "[28]\tvalidation_0-rmse:1.84082\n",
      "[29]\tvalidation_0-rmse:1.83667\n",
      "[30]\tvalidation_0-rmse:1.83199\n",
      "[31]\tvalidation_0-rmse:1.82894\n",
      "[32]\tvalidation_0-rmse:1.82502\n",
      "[33]\tvalidation_0-rmse:1.82131\n",
      "[34]\tvalidation_0-rmse:1.81816\n",
      "[35]\tvalidation_0-rmse:1.81423\n",
      "[36]\tvalidation_0-rmse:1.81112\n",
      "[37]\tvalidation_0-rmse:1.80852\n",
      "[38]\tvalidation_0-rmse:1.80629\n",
      "[39]\tvalidation_0-rmse:1.80372\n",
      "[40]\tvalidation_0-rmse:1.80117\n",
      "[41]\tvalidation_0-rmse:1.79962\n",
      "[42]\tvalidation_0-rmse:1.79691\n",
      "[43]\tvalidation_0-rmse:1.79460\n",
      "[44]\tvalidation_0-rmse:1.79178\n",
      "[45]\tvalidation_0-rmse:1.78926\n",
      "[46]\tvalidation_0-rmse:1.78694\n",
      "[47]\tvalidation_0-rmse:1.78538\n",
      "[48]\tvalidation_0-rmse:1.78349\n",
      "[49]\tvalidation_0-rmse:1.78177\n",
      "[50]\tvalidation_0-rmse:1.78043\n",
      "[51]\tvalidation_0-rmse:1.77781\n",
      "[52]\tvalidation_0-rmse:1.77649\n",
      "[53]\tvalidation_0-rmse:1.77493\n",
      "[54]\tvalidation_0-rmse:1.77352\n",
      "[55]\tvalidation_0-rmse:1.77207\n",
      "[56]\tvalidation_0-rmse:1.77062\n",
      "[57]\tvalidation_0-rmse:1.76923\n",
      "[58]\tvalidation_0-rmse:1.76756\n",
      "[59]\tvalidation_0-rmse:1.76627\n",
      "[60]\tvalidation_0-rmse:1.76534\n",
      "[61]\tvalidation_0-rmse:1.76405\n",
      "[62]\tvalidation_0-rmse:1.76273\n",
      "[63]\tvalidation_0-rmse:1.76126\n",
      "[64]\tvalidation_0-rmse:1.76004\n",
      "[65]\tvalidation_0-rmse:1.75937\n",
      "[66]\tvalidation_0-rmse:1.75797\n",
      "[67]\tvalidation_0-rmse:1.75734\n",
      "[68]\tvalidation_0-rmse:1.75593\n",
      "[69]\tvalidation_0-rmse:1.75496\n",
      "[70]\tvalidation_0-rmse:1.75400\n",
      "[71]\tvalidation_0-rmse:1.75319\n",
      "[72]\tvalidation_0-rmse:1.75204\n",
      "[73]\tvalidation_0-rmse:1.75146\n",
      "[74]\tvalidation_0-rmse:1.75055\n",
      "[75]\tvalidation_0-rmse:1.74947\n",
      "[76]\tvalidation_0-rmse:1.74839\n",
      "[77]\tvalidation_0-rmse:1.74771\n",
      "[78]\tvalidation_0-rmse:1.74681\n",
      "[79]\tvalidation_0-rmse:1.74620\n",
      "[80]\tvalidation_0-rmse:1.74544\n",
      "[81]\tvalidation_0-rmse:1.74417\n",
      "[82]\tvalidation_0-rmse:1.74307\n",
      "[83]\tvalidation_0-rmse:1.74240\n",
      "[84]\tvalidation_0-rmse:1.74136\n",
      "[85]\tvalidation_0-rmse:1.74063\n",
      "[86]\tvalidation_0-rmse:1.74015\n",
      "[87]\tvalidation_0-rmse:1.73964\n",
      "[88]\tvalidation_0-rmse:1.73855\n",
      "[89]\tvalidation_0-rmse:1.73772\n",
      "[90]\tvalidation_0-rmse:1.73722\n",
      "[91]\tvalidation_0-rmse:1.73668\n",
      "[92]\tvalidation_0-rmse:1.73625\n",
      "[93]\tvalidation_0-rmse:1.73576\n",
      "[94]\tvalidation_0-rmse:1.73520\n",
      "[95]\tvalidation_0-rmse:1.73479\n",
      "[96]\tvalidation_0-rmse:1.73418\n",
      "[97]\tvalidation_0-rmse:1.73375\n",
      "[98]\tvalidation_0-rmse:1.73335\n",
      "[99]\tvalidation_0-rmse:1.73246\n",
      "[100]\tvalidation_0-rmse:1.73187\n",
      "[101]\tvalidation_0-rmse:1.73131\n",
      "[102]\tvalidation_0-rmse:1.73076\n",
      "[103]\tvalidation_0-rmse:1.73038\n",
      "[104]\tvalidation_0-rmse:1.72991\n",
      "[105]\tvalidation_0-rmse:1.72950\n",
      "[106]\tvalidation_0-rmse:1.72895\n",
      "[107]\tvalidation_0-rmse:1.72846\n",
      "[108]\tvalidation_0-rmse:1.72782\n",
      "[109]\tvalidation_0-rmse:1.72758\n",
      "[110]\tvalidation_0-rmse:1.72701\n",
      "[111]\tvalidation_0-rmse:1.72679\n",
      "[112]\tvalidation_0-rmse:1.72645\n",
      "[113]\tvalidation_0-rmse:1.72627\n",
      "[114]\tvalidation_0-rmse:1.72585\n",
      "[115]\tvalidation_0-rmse:1.72542\n",
      "[116]\tvalidation_0-rmse:1.72461\n",
      "[117]\tvalidation_0-rmse:1.72381\n",
      "[118]\tvalidation_0-rmse:1.72345\n",
      "[119]\tvalidation_0-rmse:1.72308\n",
      "[120]\tvalidation_0-rmse:1.72245\n",
      "[121]\tvalidation_0-rmse:1.72240\n",
      "[122]\tvalidation_0-rmse:1.72204\n",
      "[123]\tvalidation_0-rmse:1.72188\n",
      "[124]\tvalidation_0-rmse:1.72166\n",
      "[125]\tvalidation_0-rmse:1.72117\n",
      "[126]\tvalidation_0-rmse:1.72068\n",
      "[127]\tvalidation_0-rmse:1.72037\n",
      "[128]\tvalidation_0-rmse:1.71995\n",
      "[129]\tvalidation_0-rmse:1.71966\n",
      "[130]\tvalidation_0-rmse:1.71928\n",
      "[131]\tvalidation_0-rmse:1.71922\n",
      "[132]\tvalidation_0-rmse:1.71879\n",
      "[133]\tvalidation_0-rmse:1.71839\n",
      "[134]\tvalidation_0-rmse:1.71811\n",
      "[135]\tvalidation_0-rmse:1.71778\n",
      "[136]\tvalidation_0-rmse:1.71747\n",
      "[137]\tvalidation_0-rmse:1.71715\n",
      "[138]\tvalidation_0-rmse:1.71706\n",
      "[139]\tvalidation_0-rmse:1.71690\n",
      "[140]\tvalidation_0-rmse:1.71649\n",
      "[141]\tvalidation_0-rmse:1.71632\n",
      "[142]\tvalidation_0-rmse:1.71629\n",
      "[143]\tvalidation_0-rmse:1.71629\n",
      "[144]\tvalidation_0-rmse:1.71614\n",
      "[145]\tvalidation_0-rmse:1.71613\n",
      "[146]\tvalidation_0-rmse:1.71556\n",
      "[147]\tvalidation_0-rmse:1.71527\n",
      "[148]\tvalidation_0-rmse:1.71452\n",
      "[149]\tvalidation_0-rmse:1.71431\n",
      "[150]\tvalidation_0-rmse:1.71422\n",
      "[151]\tvalidation_0-rmse:1.71360\n",
      "[152]\tvalidation_0-rmse:1.71333\n",
      "[153]\tvalidation_0-rmse:1.71325\n",
      "[154]\tvalidation_0-rmse:1.71322\n",
      "[155]\tvalidation_0-rmse:1.71277\n",
      "[156]\tvalidation_0-rmse:1.71238\n",
      "[157]\tvalidation_0-rmse:1.71197\n",
      "[158]\tvalidation_0-rmse:1.71170\n",
      "[159]\tvalidation_0-rmse:1.71146\n",
      "[160]\tvalidation_0-rmse:1.71134\n",
      "[161]\tvalidation_0-rmse:1.71120\n",
      "[162]\tvalidation_0-rmse:1.71056\n",
      "[163]\tvalidation_0-rmse:1.71033\n",
      "[164]\tvalidation_0-rmse:1.71005\n",
      "[165]\tvalidation_0-rmse:1.70974\n",
      "[166]\tvalidation_0-rmse:1.70936\n",
      "[167]\tvalidation_0-rmse:1.70928\n",
      "[168]\tvalidation_0-rmse:1.70889\n",
      "[169]\tvalidation_0-rmse:1.70889\n",
      "[170]\tvalidation_0-rmse:1.70885\n",
      "[171]\tvalidation_0-rmse:1.70871\n",
      "[172]\tvalidation_0-rmse:1.70847\n",
      "[173]\tvalidation_0-rmse:1.70831\n",
      "[174]\tvalidation_0-rmse:1.70799\n",
      "[175]\tvalidation_0-rmse:1.70780\n",
      "[176]\tvalidation_0-rmse:1.70769\n",
      "[177]\tvalidation_0-rmse:1.70759\n",
      "[178]\tvalidation_0-rmse:1.70719\n",
      "[179]\tvalidation_0-rmse:1.70683\n",
      "[180]\tvalidation_0-rmse:1.70642\n",
      "[181]\tvalidation_0-rmse:1.70623\n",
      "[182]\tvalidation_0-rmse:1.70600\n",
      "[183]\tvalidation_0-rmse:1.70591\n",
      "[184]\tvalidation_0-rmse:1.70569\n",
      "[185]\tvalidation_0-rmse:1.70559\n",
      "[186]\tvalidation_0-rmse:1.70516\n",
      "[187]\tvalidation_0-rmse:1.70485\n",
      "[188]\tvalidation_0-rmse:1.70501\n",
      "[189]\tvalidation_0-rmse:1.70481\n",
      "[190]\tvalidation_0-rmse:1.70468\n",
      "[191]\tvalidation_0-rmse:1.70465\n",
      "[192]\tvalidation_0-rmse:1.70452\n",
      "[193]\tvalidation_0-rmse:1.70453\n",
      "[194]\tvalidation_0-rmse:1.70434\n",
      "[195]\tvalidation_0-rmse:1.70423\n",
      "[196]\tvalidation_0-rmse:1.70408\n",
      "[197]\tvalidation_0-rmse:1.70384\n",
      "[198]\tvalidation_0-rmse:1.70366\n",
      "[199]\tvalidation_0-rmse:1.70370\n",
      "[200]\tvalidation_0-rmse:1.70362\n",
      "[201]\tvalidation_0-rmse:1.70364\n",
      "[202]\tvalidation_0-rmse:1.70357\n",
      "[203]\tvalidation_0-rmse:1.70362\n",
      "[204]\tvalidation_0-rmse:1.70351\n",
      "[205]\tvalidation_0-rmse:1.70316\n",
      "[206]\tvalidation_0-rmse:1.70308\n",
      "[207]\tvalidation_0-rmse:1.70260\n",
      "[208]\tvalidation_0-rmse:1.70242\n",
      "[209]\tvalidation_0-rmse:1.70251\n",
      "[210]\tvalidation_0-rmse:1.70233\n",
      "[211]\tvalidation_0-rmse:1.70229\n",
      "[212]\tvalidation_0-rmse:1.70230\n",
      "[213]\tvalidation_0-rmse:1.70216\n",
      "[214]\tvalidation_0-rmse:1.70202\n",
      "[215]\tvalidation_0-rmse:1.70232\n",
      "[216]\tvalidation_0-rmse:1.70203\n",
      "[217]\tvalidation_0-rmse:1.70180\n",
      "[218]\tvalidation_0-rmse:1.70163\n",
      "[219]\tvalidation_0-rmse:1.70164\n",
      "[220]\tvalidation_0-rmse:1.70154\n",
      "[221]\tvalidation_0-rmse:1.70144\n",
      "[222]\tvalidation_0-rmse:1.70135\n",
      "[223]\tvalidation_0-rmse:1.70090\n",
      "[224]\tvalidation_0-rmse:1.70073\n",
      "[225]\tvalidation_0-rmse:1.70044\n",
      "[226]\tvalidation_0-rmse:1.70026\n",
      "[227]\tvalidation_0-rmse:1.70000\n",
      "[228]\tvalidation_0-rmse:1.69984\n",
      "[229]\tvalidation_0-rmse:1.69979\n",
      "[230]\tvalidation_0-rmse:1.69981\n",
      "[231]\tvalidation_0-rmse:1.69966\n",
      "[232]\tvalidation_0-rmse:1.69968\n",
      "[233]\tvalidation_0-rmse:1.69958\n",
      "[234]\tvalidation_0-rmse:1.69951\n",
      "[235]\tvalidation_0-rmse:1.69923\n",
      "[236]\tvalidation_0-rmse:1.69872\n",
      "[237]\tvalidation_0-rmse:1.69868\n",
      "[238]\tvalidation_0-rmse:1.69865\n",
      "[239]\tvalidation_0-rmse:1.69857\n",
      "[240]\tvalidation_0-rmse:1.69846\n",
      "[241]\tvalidation_0-rmse:1.69855\n",
      "[242]\tvalidation_0-rmse:1.69840\n",
      "[243]\tvalidation_0-rmse:1.69826\n",
      "[244]\tvalidation_0-rmse:1.69814\n",
      "[245]\tvalidation_0-rmse:1.69802\n",
      "[246]\tvalidation_0-rmse:1.69807\n",
      "[247]\tvalidation_0-rmse:1.69794\n",
      "[248]\tvalidation_0-rmse:1.69781\n",
      "[249]\tvalidation_0-rmse:1.69778\n",
      "[250]\tvalidation_0-rmse:1.69772\n",
      "[251]\tvalidation_0-rmse:1.69762\n",
      "[252]\tvalidation_0-rmse:1.69756\n",
      "[253]\tvalidation_0-rmse:1.69739\n",
      "[254]\tvalidation_0-rmse:1.69735\n",
      "[255]\tvalidation_0-rmse:1.69711\n",
      "[256]\tvalidation_0-rmse:1.69693\n",
      "[257]\tvalidation_0-rmse:1.69683\n",
      "[258]\tvalidation_0-rmse:1.69656\n",
      "[259]\tvalidation_0-rmse:1.69631\n",
      "[260]\tvalidation_0-rmse:1.69629\n",
      "[261]\tvalidation_0-rmse:1.69623\n",
      "[262]\tvalidation_0-rmse:1.69610\n",
      "[263]\tvalidation_0-rmse:1.69612\n",
      "[264]\tvalidation_0-rmse:1.69594\n",
      "[265]\tvalidation_0-rmse:1.69582\n",
      "[266]\tvalidation_0-rmse:1.69546\n",
      "[267]\tvalidation_0-rmse:1.69531\n",
      "[268]\tvalidation_0-rmse:1.69545\n",
      "[269]\tvalidation_0-rmse:1.69535\n",
      "[270]\tvalidation_0-rmse:1.69529\n",
      "[271]\tvalidation_0-rmse:1.69517\n",
      "[272]\tvalidation_0-rmse:1.69501\n",
      "[273]\tvalidation_0-rmse:1.69490\n",
      "[274]\tvalidation_0-rmse:1.69498\n",
      "[275]\tvalidation_0-rmse:1.69469\n",
      "[276]\tvalidation_0-rmse:1.69450\n",
      "[277]\tvalidation_0-rmse:1.69464\n",
      "[278]\tvalidation_0-rmse:1.69456\n",
      "[279]\tvalidation_0-rmse:1.69450\n",
      "[280]\tvalidation_0-rmse:1.69439\n",
      "[281]\tvalidation_0-rmse:1.69437\n",
      "[282]\tvalidation_0-rmse:1.69416\n",
      "[283]\tvalidation_0-rmse:1.69410\n",
      "[284]\tvalidation_0-rmse:1.69399\n",
      "[285]\tvalidation_0-rmse:1.69388\n",
      "[286]\tvalidation_0-rmse:1.69371\n",
      "[287]\tvalidation_0-rmse:1.69364\n",
      "[288]\tvalidation_0-rmse:1.69349\n",
      "[289]\tvalidation_0-rmse:1.69340\n",
      "[290]\tvalidation_0-rmse:1.69332\n",
      "[291]\tvalidation_0-rmse:1.69335\n",
      "[292]\tvalidation_0-rmse:1.69334\n",
      "[293]\tvalidation_0-rmse:1.69321\n",
      "[294]\tvalidation_0-rmse:1.69319\n",
      "[295]\tvalidation_0-rmse:1.69318\n",
      "[296]\tvalidation_0-rmse:1.69337\n",
      "[297]\tvalidation_0-rmse:1.69348\n",
      "[298]\tvalidation_0-rmse:1.69344\n",
      "[299]\tvalidation_0-rmse:1.69347\n",
      "[300]\tvalidation_0-rmse:1.69343\n",
      "[301]\tvalidation_0-rmse:1.69343\n",
      "[302]\tvalidation_0-rmse:1.69334\n",
      "[303]\tvalidation_0-rmse:1.69338\n",
      "[304]\tvalidation_0-rmse:1.69323\n",
      "[305]\tvalidation_0-rmse:1.69315\n",
      "[306]\tvalidation_0-rmse:1.69303\n",
      "[307]\tvalidation_0-rmse:1.69302\n",
      "[308]\tvalidation_0-rmse:1.69299\n",
      "[309]\tvalidation_0-rmse:1.69229\n",
      "[310]\tvalidation_0-rmse:1.69236\n",
      "[311]\tvalidation_0-rmse:1.69222\n",
      "[312]\tvalidation_0-rmse:1.69225\n",
      "[313]\tvalidation_0-rmse:1.69216\n",
      "[314]\tvalidation_0-rmse:1.69218\n",
      "[315]\tvalidation_0-rmse:1.69229\n",
      "[316]\tvalidation_0-rmse:1.69210\n",
      "[317]\tvalidation_0-rmse:1.69223\n",
      "[318]\tvalidation_0-rmse:1.69206\n",
      "[319]\tvalidation_0-rmse:1.69185\n",
      "[320]\tvalidation_0-rmse:1.69213\n",
      "[321]\tvalidation_0-rmse:1.69203\n",
      "[322]\tvalidation_0-rmse:1.69190\n",
      "[323]\tvalidation_0-rmse:1.69172\n",
      "[324]\tvalidation_0-rmse:1.69166\n",
      "[325]\tvalidation_0-rmse:1.69150\n",
      "[326]\tvalidation_0-rmse:1.69149\n",
      "[327]\tvalidation_0-rmse:1.69155\n",
      "[328]\tvalidation_0-rmse:1.69159\n",
      "[329]\tvalidation_0-rmse:1.69149\n",
      "[330]\tvalidation_0-rmse:1.69143\n",
      "[331]\tvalidation_0-rmse:1.69128\n",
      "[332]\tvalidation_0-rmse:1.69113\n",
      "[333]\tvalidation_0-rmse:1.69095\n",
      "[334]\tvalidation_0-rmse:1.69101\n",
      "[335]\tvalidation_0-rmse:1.69094\n",
      "[336]\tvalidation_0-rmse:1.69094\n",
      "[337]\tvalidation_0-rmse:1.69103\n",
      "[338]\tvalidation_0-rmse:1.69098\n",
      "[339]\tvalidation_0-rmse:1.69090\n",
      "[340]\tvalidation_0-rmse:1.69096\n",
      "[341]\tvalidation_0-rmse:1.69085\n",
      "[342]\tvalidation_0-rmse:1.69074\n",
      "[343]\tvalidation_0-rmse:1.69070\n",
      "[344]\tvalidation_0-rmse:1.69070\n",
      "[345]\tvalidation_0-rmse:1.69051\n",
      "[346]\tvalidation_0-rmse:1.69047\n",
      "[347]\tvalidation_0-rmse:1.69027\n",
      "[348]\tvalidation_0-rmse:1.69010\n",
      "[349]\tvalidation_0-rmse:1.69018\n",
      "[350]\tvalidation_0-rmse:1.69018\n",
      "[351]\tvalidation_0-rmse:1.69002\n",
      "[352]\tvalidation_0-rmse:1.68996\n",
      "[353]\tvalidation_0-rmse:1.68994\n",
      "[354]\tvalidation_0-rmse:1.68986\n",
      "[355]\tvalidation_0-rmse:1.68973\n",
      "[356]\tvalidation_0-rmse:1.68970\n",
      "[357]\tvalidation_0-rmse:1.68953\n",
      "[358]\tvalidation_0-rmse:1.68952\n",
      "[359]\tvalidation_0-rmse:1.68946\n",
      "[360]\tvalidation_0-rmse:1.68935\n",
      "[361]\tvalidation_0-rmse:1.68918\n",
      "[362]\tvalidation_0-rmse:1.68925\n",
      "[363]\tvalidation_0-rmse:1.68920\n",
      "[364]\tvalidation_0-rmse:1.68921\n",
      "[365]\tvalidation_0-rmse:1.68916\n",
      "[366]\tvalidation_0-rmse:1.68912\n",
      "[367]\tvalidation_0-rmse:1.68910\n",
      "[368]\tvalidation_0-rmse:1.68913\n",
      "[369]\tvalidation_0-rmse:1.68902\n",
      "[370]\tvalidation_0-rmse:1.68892\n",
      "[371]\tvalidation_0-rmse:1.68875\n",
      "[372]\tvalidation_0-rmse:1.68872\n",
      "[373]\tvalidation_0-rmse:1.68875\n",
      "[374]\tvalidation_0-rmse:1.68882\n",
      "[375]\tvalidation_0-rmse:1.68868\n",
      "[376]\tvalidation_0-rmse:1.68868\n",
      "[377]\tvalidation_0-rmse:1.68868\n",
      "[378]\tvalidation_0-rmse:1.68860\n",
      "[379]\tvalidation_0-rmse:1.68853\n",
      "[380]\tvalidation_0-rmse:1.68850\n",
      "[381]\tvalidation_0-rmse:1.68847\n",
      "[382]\tvalidation_0-rmse:1.68841\n",
      "[383]\tvalidation_0-rmse:1.68835\n",
      "[384]\tvalidation_0-rmse:1.68841\n",
      "[385]\tvalidation_0-rmse:1.68837\n",
      "[386]\tvalidation_0-rmse:1.68833\n",
      "[387]\tvalidation_0-rmse:1.68826\n",
      "[388]\tvalidation_0-rmse:1.68819\n",
      "[389]\tvalidation_0-rmse:1.68820\n",
      "[390]\tvalidation_0-rmse:1.68826\n",
      "[391]\tvalidation_0-rmse:1.68834\n",
      "[392]\tvalidation_0-rmse:1.68826\n",
      "[393]\tvalidation_0-rmse:1.68816\n",
      "[394]\tvalidation_0-rmse:1.68819\n",
      "[395]\tvalidation_0-rmse:1.68820\n",
      "[396]\tvalidation_0-rmse:1.68820\n",
      "[397]\tvalidation_0-rmse:1.68796\n",
      "[398]\tvalidation_0-rmse:1.68796\n",
      "[399]\tvalidation_0-rmse:1.68790\n",
      "[400]\tvalidation_0-rmse:1.68787\n",
      "[401]\tvalidation_0-rmse:1.68771\n",
      "[402]\tvalidation_0-rmse:1.68768\n",
      "[403]\tvalidation_0-rmse:1.68768\n",
      "[404]\tvalidation_0-rmse:1.68760\n",
      "[405]\tvalidation_0-rmse:1.68761\n",
      "[406]\tvalidation_0-rmse:1.68753\n",
      "[407]\tvalidation_0-rmse:1.68748\n",
      "[408]\tvalidation_0-rmse:1.68726\n",
      "[409]\tvalidation_0-rmse:1.68722\n",
      "[410]\tvalidation_0-rmse:1.68719\n",
      "[411]\tvalidation_0-rmse:1.68717\n",
      "[412]\tvalidation_0-rmse:1.68705\n",
      "[413]\tvalidation_0-rmse:1.68711\n",
      "[414]\tvalidation_0-rmse:1.68706\n",
      "[415]\tvalidation_0-rmse:1.68686\n",
      "[416]\tvalidation_0-rmse:1.68675\n",
      "[417]\tvalidation_0-rmse:1.68671\n",
      "[418]\tvalidation_0-rmse:1.68668\n",
      "[419]\tvalidation_0-rmse:1.68673\n",
      "[420]\tvalidation_0-rmse:1.68652\n",
      "[421]\tvalidation_0-rmse:1.68653\n",
      "[422]\tvalidation_0-rmse:1.68662\n",
      "[423]\tvalidation_0-rmse:1.68660\n",
      "[424]\tvalidation_0-rmse:1.68651\n",
      "[425]\tvalidation_0-rmse:1.68648\n",
      "[426]\tvalidation_0-rmse:1.68649\n",
      "[427]\tvalidation_0-rmse:1.68645\n",
      "[428]\tvalidation_0-rmse:1.68631\n",
      "[429]\tvalidation_0-rmse:1.68617\n",
      "[430]\tvalidation_0-rmse:1.68620\n",
      "[431]\tvalidation_0-rmse:1.68612\n",
      "[432]\tvalidation_0-rmse:1.68613\n",
      "[433]\tvalidation_0-rmse:1.68598\n",
      "[434]\tvalidation_0-rmse:1.68591\n",
      "[435]\tvalidation_0-rmse:1.68584\n",
      "[436]\tvalidation_0-rmse:1.68587\n",
      "[437]\tvalidation_0-rmse:1.68589\n",
      "[438]\tvalidation_0-rmse:1.68587\n",
      "[439]\tvalidation_0-rmse:1.68582\n",
      "[440]\tvalidation_0-rmse:1.68590\n",
      "[441]\tvalidation_0-rmse:1.68575\n",
      "[442]\tvalidation_0-rmse:1.68592\n",
      "[443]\tvalidation_0-rmse:1.68584\n",
      "[444]\tvalidation_0-rmse:1.68593\n",
      "[445]\tvalidation_0-rmse:1.68596\n",
      "[446]\tvalidation_0-rmse:1.68601\n",
      "[447]\tvalidation_0-rmse:1.68570\n",
      "[448]\tvalidation_0-rmse:1.68572\n",
      "[449]\tvalidation_0-rmse:1.68562\n",
      "[450]\tvalidation_0-rmse:1.68567\n",
      "[451]\tvalidation_0-rmse:1.68568\n",
      "[452]\tvalidation_0-rmse:1.68559\n",
      "[453]\tvalidation_0-rmse:1.68567\n",
      "[454]\tvalidation_0-rmse:1.68564\n",
      "[455]\tvalidation_0-rmse:1.68557\n",
      "[456]\tvalidation_0-rmse:1.68549\n",
      "[457]\tvalidation_0-rmse:1.68538\n",
      "[458]\tvalidation_0-rmse:1.68537\n",
      "[459]\tvalidation_0-rmse:1.68543\n",
      "[460]\tvalidation_0-rmse:1.68543\n",
      "[461]\tvalidation_0-rmse:1.68532\n",
      "[462]\tvalidation_0-rmse:1.68530\n",
      "[463]\tvalidation_0-rmse:1.68519\n",
      "[464]\tvalidation_0-rmse:1.68513\n",
      "[465]\tvalidation_0-rmse:1.68514\n",
      "[466]\tvalidation_0-rmse:1.68503\n",
      "[467]\tvalidation_0-rmse:1.68505\n",
      "[468]\tvalidation_0-rmse:1.68505\n",
      "[469]\tvalidation_0-rmse:1.68503\n",
      "[470]\tvalidation_0-rmse:1.68484\n",
      "[471]\tvalidation_0-rmse:1.68479\n",
      "[472]\tvalidation_0-rmse:1.68483\n",
      "[473]\tvalidation_0-rmse:1.68473\n",
      "[474]\tvalidation_0-rmse:1.68474\n",
      "[475]\tvalidation_0-rmse:1.68470\n",
      "[476]\tvalidation_0-rmse:1.68474\n",
      "[477]\tvalidation_0-rmse:1.68469\n",
      "[478]\tvalidation_0-rmse:1.68450\n",
      "[479]\tvalidation_0-rmse:1.68453\n",
      "[480]\tvalidation_0-rmse:1.68452\n",
      "[481]\tvalidation_0-rmse:1.68441\n",
      "[482]\tvalidation_0-rmse:1.68448\n",
      "[483]\tvalidation_0-rmse:1.68453\n",
      "[484]\tvalidation_0-rmse:1.68456\n",
      "[485]\tvalidation_0-rmse:1.68446\n",
      "[486]\tvalidation_0-rmse:1.68447\n",
      "[487]\tvalidation_0-rmse:1.68459\n",
      "[488]\tvalidation_0-rmse:1.68453\n",
      "[489]\tvalidation_0-rmse:1.68453\n",
      "[490]\tvalidation_0-rmse:1.68447\n",
      "[491]\tvalidation_0-rmse:1.68445\n"
     ]
    },
    {
     "data": {
      "text/html": [
       "<style>#sk-container-id-1 {color: black;background-color: white;}#sk-container-id-1 pre{padding: 0;}#sk-container-id-1 div.sk-toggleable {background-color: white;}#sk-container-id-1 label.sk-toggleable__label {cursor: pointer;display: block;width: 100%;margin-bottom: 0;padding: 0.3em;box-sizing: border-box;text-align: center;}#sk-container-id-1 label.sk-toggleable__label-arrow:before {content: \"▸\";float: left;margin-right: 0.25em;color: #696969;}#sk-container-id-1 label.sk-toggleable__label-arrow:hover:before {color: black;}#sk-container-id-1 div.sk-estimator:hover label.sk-toggleable__label-arrow:before {color: black;}#sk-container-id-1 div.sk-toggleable__content {max-height: 0;max-width: 0;overflow: hidden;text-align: left;background-color: #f0f8ff;}#sk-container-id-1 div.sk-toggleable__content pre {margin: 0.2em;color: black;border-radius: 0.25em;background-color: #f0f8ff;}#sk-container-id-1 input.sk-toggleable__control:checked~div.sk-toggleable__content {max-height: 200px;max-width: 100%;overflow: auto;}#sk-container-id-1 input.sk-toggleable__control:checked~label.sk-toggleable__label-arrow:before {content: \"▾\";}#sk-container-id-1 div.sk-estimator input.sk-toggleable__control:checked~label.sk-toggleable__label {background-color: #d4ebff;}#sk-container-id-1 div.sk-label input.sk-toggleable__control:checked~label.sk-toggleable__label {background-color: #d4ebff;}#sk-container-id-1 input.sk-hidden--visually {border: 0;clip: rect(1px 1px 1px 1px);clip: rect(1px, 1px, 1px, 1px);height: 1px;margin: -1px;overflow: hidden;padding: 0;position: absolute;width: 1px;}#sk-container-id-1 div.sk-estimator {font-family: monospace;background-color: #f0f8ff;border: 1px dotted black;border-radius: 0.25em;box-sizing: border-box;margin-bottom: 0.5em;}#sk-container-id-1 div.sk-estimator:hover {background-color: #d4ebff;}#sk-container-id-1 div.sk-parallel-item::after {content: \"\";width: 100%;border-bottom: 1px solid gray;flex-grow: 1;}#sk-container-id-1 div.sk-label:hover label.sk-toggleable__label {background-color: #d4ebff;}#sk-container-id-1 div.sk-serial::before {content: \"\";position: absolute;border-left: 1px solid gray;box-sizing: border-box;top: 0;bottom: 0;left: 50%;z-index: 0;}#sk-container-id-1 div.sk-serial {display: flex;flex-direction: column;align-items: center;background-color: white;padding-right: 0.2em;padding-left: 0.2em;position: relative;}#sk-container-id-1 div.sk-item {position: relative;z-index: 1;}#sk-container-id-1 div.sk-parallel {display: flex;align-items: stretch;justify-content: center;background-color: white;position: relative;}#sk-container-id-1 div.sk-item::before, #sk-container-id-1 div.sk-parallel-item::before {content: \"\";position: absolute;border-left: 1px solid gray;box-sizing: border-box;top: 0;bottom: 0;left: 50%;z-index: -1;}#sk-container-id-1 div.sk-parallel-item {display: flex;flex-direction: column;z-index: 1;position: relative;background-color: white;}#sk-container-id-1 div.sk-parallel-item:first-child::after {align-self: flex-end;width: 50%;}#sk-container-id-1 div.sk-parallel-item:last-child::after {align-self: flex-start;width: 50%;}#sk-container-id-1 div.sk-parallel-item:only-child::after {width: 0;}#sk-container-id-1 div.sk-dashed-wrapped {border: 1px dashed gray;margin: 0 0.4em 0.5em 0.4em;box-sizing: border-box;padding-bottom: 0.4em;background-color: white;}#sk-container-id-1 div.sk-label label {font-family: monospace;font-weight: bold;display: inline-block;line-height: 1.2em;}#sk-container-id-1 div.sk-label-container {text-align: center;}#sk-container-id-1 div.sk-container {/* jupyter's `normalize.less` sets `[hidden] { display: none; }` but bootstrap.min.css set `[hidden] { display: none !important; }` so we also need the `!important` here to be able to override the default hidden behavior on the sphinx rendered scikit-learn.org. See: https://github.com/scikit-learn/scikit-learn/issues/21755 */display: inline-block !important;position: relative;}#sk-container-id-1 div.sk-text-repr-fallback {display: none;}</style><div id=\"sk-container-id-1\" class=\"sk-top-container\"><div class=\"sk-text-repr-fallback\"><pre>XGBRegressor(base_score=None, booster=None, callbacks=None,\n",
       "             colsample_bylevel=None, colsample_bynode=None,\n",
       "             colsample_bytree=0.8, device=None, early_stopping_rounds=10,\n",
       "             enable_categorical=False, eval_metric=None, feature_types=None,\n",
       "             gamma=None, grow_policy=None, importance_type=None,\n",
       "             interaction_constraints=None, learning_rate=0.1, max_bin=None,\n",
       "             max_cat_threshold=None, max_cat_to_onehot=None,\n",
       "             max_delta_step=None, max_depth=6, max_leaves=None,\n",
       "             min_child_weight=None, missing=nan, monotone_constraints=None,\n",
       "             multi_strategy=None, n_estimators=1000, n_jobs=None,\n",
       "             num_parallel_tree=None, random_state=None, ...)</pre><b>In a Jupyter environment, please rerun this cell to show the HTML representation or trust the notebook. <br />On GitHub, the HTML representation is unable to render, please try loading this page with nbviewer.org.</b></div><div class=\"sk-container\" hidden><div class=\"sk-item\"><div class=\"sk-estimator sk-toggleable\"><input class=\"sk-toggleable__control sk-hidden--visually\" id=\"sk-estimator-id-1\" type=\"checkbox\" checked><label for=\"sk-estimator-id-1\" class=\"sk-toggleable__label sk-toggleable__label-arrow\">XGBRegressor</label><div class=\"sk-toggleable__content\"><pre>XGBRegressor(base_score=None, booster=None, callbacks=None,\n",
       "             colsample_bylevel=None, colsample_bynode=None,\n",
       "             colsample_bytree=0.8, device=None, early_stopping_rounds=10,\n",
       "             enable_categorical=False, eval_metric=None, feature_types=None,\n",
       "             gamma=None, grow_policy=None, importance_type=None,\n",
       "             interaction_constraints=None, learning_rate=0.1, max_bin=None,\n",
       "             max_cat_threshold=None, max_cat_to_onehot=None,\n",
       "             max_delta_step=None, max_depth=6, max_leaves=None,\n",
       "             min_child_weight=None, missing=nan, monotone_constraints=None,\n",
       "             multi_strategy=None, n_estimators=1000, n_jobs=None,\n",
       "             num_parallel_tree=None, random_state=None, ...)</pre></div></div></div></div></div>"
      ],
      "text/plain": [
       "XGBRegressor(base_score=None, booster=None, callbacks=None,\n",
       "             colsample_bylevel=None, colsample_bynode=None,\n",
       "             colsample_bytree=0.8, device=None, early_stopping_rounds=10,\n",
       "             enable_categorical=False, eval_metric=None, feature_types=None,\n",
       "             gamma=None, grow_policy=None, importance_type=None,\n",
       "             interaction_constraints=None, learning_rate=0.1, max_bin=None,\n",
       "             max_cat_threshold=None, max_cat_to_onehot=None,\n",
       "             max_delta_step=None, max_depth=6, max_leaves=None,\n",
       "             min_child_weight=None, missing=nan, monotone_constraints=None,\n",
       "             multi_strategy=None, n_estimators=1000, n_jobs=None,\n",
       "             num_parallel_tree=None, random_state=None, ...)"
      ]
     },
     "execution_count": 59,
     "metadata": {},
     "output_type": "execute_result"
    }
   ],
   "source": [
    "model.fit(train_x, train_y_log, \n",
    "            eval_set=[(valid_x, valid_y_log)]) "
   ]
  },
  {
   "cell_type": "markdown",
   "id": "83ec5117",
   "metadata": {
    "papermill": {
     "duration": 0.051346,
     "end_time": "2025-02-10T14:43:13.226966",
     "exception": false,
     "start_time": "2025-02-10T14:43:13.175620",
     "status": "completed"
    },
    "tags": []
   },
   "source": [
    "## Validation loss curve"
   ]
  },
  {
   "cell_type": "code",
   "execution_count": 60,
   "id": "a96dccd3",
   "metadata": {
    "execution": {
     "iopub.execute_input": "2025-02-10T14:43:13.321575Z",
     "iopub.status.busy": "2025-02-10T14:43:13.321200Z",
     "iopub.status.idle": "2025-02-10T14:43:13.682157Z",
     "shell.execute_reply": "2025-02-10T14:43:13.680862Z"
    },
    "papermill": {
     "duration": 0.410643,
     "end_time": "2025-02-10T14:43:13.684390",
     "exception": false,
     "start_time": "2025-02-10T14:43:13.273747",
     "status": "completed"
    },
    "tags": []
   },
   "outputs": [
    {
     "data": {
      "text/plain": [
       "<matplotlib.legend.Legend at 0x78744ca7c7f0>"
      ]
     },
     "execution_count": 60,
     "metadata": {},
     "output_type": "execute_result"
    },
    {
     "data": {
      "image/png": "[encoded data removed]",
      "text/plain": [
       "<Figure size 1000x700 with 1 Axes>"
      ]
     },
     "metadata": {},
     "output_type": "display_data"
    }
   ],
   "source": [
    "from matplotlib import pyplot as plt\n",
    "results = model.evals_result()\n",
    "\n",
    "plt.figure(figsize=(10,7))\n",
    "plt.plot(results[\"validation_0\"][\"rmse\"], label=\"Training loss\")\n",
    "plt.xlabel(\"Number of trees\")\n",
    "plt.ylabel(\"Loss\")\n",
    "plt.legend()"
   ]
  },
  {
   "cell_type": "markdown",
   "id": "4602c2f0",
   "metadata": {
    "papermill": {
     "duration": 0.046367,
     "end_time": "2025-02-10T14:43:13.777392",
     "exception": false,
     "start_time": "2025-02-10T14:43:13.731025",
     "status": "completed"
    },
    "tags": []
   },
   "source": [
    "## Cleaning up the test dataset (same procedure as for train):"
   ]
  },
  {
   "cell_type": "code",
   "execution_count": 61,
   "id": "23b75403",
   "metadata": {
    "execution": {
     "iopub.execute_input": "2025-02-10T14:43:13.871302Z",
     "iopub.status.busy": "2025-02-10T14:43:13.870873Z",
     "iopub.status.idle": "2025-02-10T14:43:15.778197Z",
     "shell.execute_reply": "2025-02-10T14:43:15.777139Z"
    },
    "papermill": {
     "duration": 1.956978,
     "end_time": "2025-02-10T14:43:15.780234",
     "exception": false,
     "start_time": "2025-02-10T14:43:13.823256",
     "status": "completed"
    },
    "tags": []
   },
   "outputs": [
    {
     "data": {
      "text/plain": [
       "45"
      ]
     },
     "execution_count": 61,
     "metadata": {},
     "output_type": "execute_result"
    }
   ],
   "source": [
    "import gc\n",
    "del train_x\n",
    "del valid_x\n",
    "del train_y\n",
    "del valid_y\n",
    "gc.collect()"
   ]
  },
  {
   "cell_type": "code",
   "execution_count": 62,
   "id": "00266de2",
   "metadata": {
    "execution": {
     "iopub.execute_input": "2025-02-10T14:43:15.874710Z",
     "iopub.status.busy": "2025-02-10T14:43:15.874342Z",
     "iopub.status.idle": "2025-02-10T14:43:16.347389Z",
     "shell.execute_reply": "2025-02-10T14:43:16.346308Z"
    },
    "papermill": {
     "duration": 0.523117,
     "end_time": "2025-02-10T14:43:16.349840",
     "exception": false,
     "start_time": "2025-02-10T14:43:15.826723",
     "status": "completed"
    },
    "tags": []
   },
   "outputs": [
    {
     "data": {
      "text/plain": [
       "novel_id                       0\n",
       "title                          0\n",
       "writer                         5\n",
       "biggenre                       0\n",
       "genre                          0\n",
       "keyword                      389\n",
       "isr15                          0\n",
       "isbl                           0\n",
       "isgl                           0\n",
       "iszankoku                      0\n",
       "istensei                       0\n",
       "istenni                        0\n",
       "kaiwaritu                      0\n",
       "length_per_story               0\n",
       "sasie_cnt_per_story            0\n",
       "time_per_story_submission      0\n",
       "dtype: int64"
      ]
     },
     "execution_count": 62,
     "metadata": {},
     "output_type": "execute_result"
    }
   ],
   "source": [
    "test = pd.read_csv(\"/kaggle/input/narou/test.csv\")\n",
    "test.isna().sum()"
   ]
  },
  {
   "cell_type": "code",
   "execution_count": 63,
   "id": "4a306f5a",
   "metadata": {
    "execution": {
     "iopub.execute_input": "2025-02-10T14:43:16.450596Z",
     "iopub.status.busy": "2025-02-10T14:43:16.449616Z",
     "iopub.status.idle": "2025-02-10T14:45:47.194183Z",
     "shell.execute_reply": "2025-02-10T14:45:47.192907Z"
    },
    "papermill": {
     "duration": 150.799013,
     "end_time": "2025-02-10T14:45:47.197251",
     "exception": false,
     "start_time": "2025-02-10T14:43:16.398238",
     "status": "completed"
    },
    "tags": []
   },
   "outputs": [],
   "source": [
    "test.fillna({\"keyword\":\"UNTAGGED_NOVEL\"}, inplace=True)\n",
    "test[\"keywords_set\"] = test[\"keyword\"].apply(lambda x: str_tags_to_set(x))\n",
    "\n",
    "\n",
    "test[\"keyword_vector\"] = test[\"keywords_set\"].apply(vectorize_keywords_set)\n",
    "\n",
    "test[\"isr15\"] = test[\"isr15\"].apply(string_binary_to_boolean)\n",
    "test[\"isbl\"] = test[\"isbl\"].apply(string_binary_to_boolean)\n",
    "test[\"isgl\"] = test[\"isgl\"].apply(string_binary_to_boolean)\n",
    "test[\"iszankoku\"] = test[\"iszankoku\"].apply(string_binary_to_boolean)\n",
    "test[\"istensei\"] = test[\"istensei\"].apply(string_binary_to_boolean)\n",
    "test[\"istenni\"] = test[\"istenni\"].apply(string_binary_to_boolean)\n",
    "\n",
    "test.fillna({\"writer\":\"NO_AUTHOR\"}, inplace=True)\n",
    "test['writer_novels_written']=test['writer'].map(train['writer'].value_counts())\n",
    "test.fillna({\"writer_novels_written\":1}, inplace=True)\n",
    "test.loc[test['writer'] == \"NO_AUTHOR\", \"writer_novels_written\"] = 1 # Since \"no author\" isn't an actual author\n",
    "test[\"title_length\"] = test[\"title\"].apply(len)\n",
    "\n",
    "test[\"title_kanji\"] = test[\"title\"].apply(count_kanji)\n",
    "test[\"title_hiragana\"] = test[\"title\"].apply(count_hiragana)\n",
    "test[\"title_katakana\"] = test[\"title\"].apply(count_katakana)\n",
    "\n",
    "test[[\"kaiwaritu\",\"length_per_story\",\"time_per_story_submission\",\"writer_novels_written\",\"sasie_cnt_per_story\",\"title_length\",\"title_kanji\",\"title_hiragana\",\"title_katakana\"]] = scaler.transform(test[[\"kaiwaritu\",\"length_per_story\",\"time_per_story_submission\", \"writer_novels_written\",\"sasie_cnt_per_story\",\"title_length\",\"title_kanji\",\"title_hiragana\",\"title_katakana\"]].to_numpy())\n",
    "\n",
    "test_genres_transformed = genre_encoder.transform(test[[\"genre\"]])\n",
    "test[\"genre\"] = test_genres_transformed.toarray().tolist()\n",
    "test[\"vectorized_title\"] = test[\"title\"].apply(lambda x : title_vectorizer.transform([x]).toarray()[0])\n",
    "\n",
    "\n",
    "\n",
    "\n",
    "test_x = get_input_from_dataframe(test)"
   ]
  },
  {
   "cell_type": "code",
   "execution_count": 64,
   "id": "86ad410b",
   "metadata": {
    "execution": {
     "iopub.execute_input": "2025-02-10T14:45:47.312350Z",
     "iopub.status.busy": "2025-02-10T14:45:47.311763Z",
     "iopub.status.idle": "2025-02-10T14:45:47.325264Z",
     "shell.execute_reply": "2025-02-10T14:45:47.324172Z"
    },
    "papermill": {
     "duration": 0.063745,
     "end_time": "2025-02-10T14:45:47.327482",
     "exception": false,
     "start_time": "2025-02-10T14:45:47.263737",
     "status": "completed"
    },
    "tags": []
   },
   "outputs": [
    {
     "data": {
      "text/plain": [
       "count    40678.000000\n",
       "mean         0.369476\n",
       "std          0.370420\n",
       "min          0.000000\n",
       "25%          0.000000\n",
       "50%          0.446947\n",
       "75%          0.703704\n",
       "max          0.997623\n",
       "Name: writer_novels_written, dtype: float64"
      ]
     },
     "execution_count": 64,
     "metadata": {},
     "output_type": "execute_result"
    }
   ],
   "source": [
    "test[\"writer_novels_written\"].describe()"
   ]
  },
  {
   "cell_type": "code",
   "execution_count": 65,
   "id": "effb0962",
   "metadata": {
    "execution": {
     "iopub.execute_input": "2025-02-10T14:45:47.424639Z",
     "iopub.status.busy": "2025-02-10T14:45:47.424236Z",
     "iopub.status.idle": "2025-02-10T14:45:47.432160Z",
     "shell.execute_reply": "2025-02-10T14:45:47.431297Z"
    },
    "papermill": {
     "duration": 0.058707,
     "end_time": "2025-02-10T14:45:47.434217",
     "exception": false,
     "start_time": "2025-02-10T14:45:47.375510",
     "status": "completed"
    },
    "tags": []
   },
   "outputs": [
    {
     "data": {
      "text/plain": [
       "array([[0.        , 0.        , 0.        , ..., 0.6926927 , 0.23923925,\n",
       "        0.8328328 ],\n",
       "       [0.        , 0.        , 0.        , ..., 0.13603005, 0.5625626 ,\n",
       "        0.8830643 ],\n",
       "       [0.        , 0.        , 0.        , ..., 0.9214214 , 0.36136135,\n",
       "        0.        ],\n",
       "       ...,\n",
       "       [1.        , 1.        , 0.        , ..., 0.87091124, 0.2012012 ,\n",
       "        0.        ],\n",
       "       [0.        , 0.        , 0.        , ..., 0.7317317 , 0.2112112 ,\n",
       "        0.6862298 ],\n",
       "       [1.        , 1.        , 0.        , ..., 0.5645646 , 0.57821923,\n",
       "        0.6866867 ]], dtype=float32)"
      ]
     },
     "execution_count": 65,
     "metadata": {},
     "output_type": "execute_result"
    }
   ],
   "source": [
    "test_x"
   ]
  },
  {
   "cell_type": "code",
   "execution_count": 66,
   "id": "da4e911f",
   "metadata": {
    "execution": {
     "iopub.execute_input": "2025-02-10T14:45:47.531023Z",
     "iopub.status.busy": "2025-02-10T14:45:47.530615Z",
     "iopub.status.idle": "2025-02-10T14:45:47.537255Z",
     "shell.execute_reply": "2025-02-10T14:45:47.536272Z"
    },
    "papermill": {
     "duration": 0.057791,
     "end_time": "2025-02-10T14:45:47.539471",
     "exception": false,
     "start_time": "2025-02-10T14:45:47.481680",
     "status": "completed"
    },
    "tags": []
   },
   "outputs": [
    {
     "data": {
      "text/plain": [
       "(40678, 2334)"
      ]
     },
     "execution_count": 66,
     "metadata": {},
     "output_type": "execute_result"
    }
   ],
   "source": [
    "test_x.shape"
   ]
  },
  {
   "cell_type": "markdown",
   "id": "79dbadd5",
   "metadata": {
    "papermill": {
     "duration": 0.047815,
     "end_time": "2025-02-10T14:45:47.635667",
     "exception": false,
     "start_time": "2025-02-10T14:45:47.587852",
     "status": "completed"
    },
    "tags": []
   },
   "source": [
    "## Test dataset inference"
   ]
  },
  {
   "cell_type": "code",
   "execution_count": 67,
   "id": "b55d7e21",
   "metadata": {
    "execution": {
     "iopub.execute_input": "2025-02-10T14:45:47.732586Z",
     "iopub.status.busy": "2025-02-10T14:45:47.732016Z",
     "iopub.status.idle": "2025-02-10T14:45:48.209447Z",
     "shell.execute_reply": "2025-02-10T14:45:48.208489Z"
    },
    "papermill": {
     "duration": 0.530797,
     "end_time": "2025-02-10T14:45:48.213848",
     "exception": false,
     "start_time": "2025-02-10T14:45:47.683051",
     "status": "completed"
    },
    "tags": []
   },
   "outputs": [],
   "source": [
    "test_y_log = model.predict(test_x)"
   ]
  },
  {
   "cell_type": "code",
   "execution_count": 68,
   "id": "22503179",
   "metadata": {
    "execution": {
     "iopub.execute_input": "2025-02-10T14:45:48.310352Z",
     "iopub.status.busy": "2025-02-10T14:45:48.309815Z",
     "iopub.status.idle": "2025-02-10T14:45:48.316646Z",
     "shell.execute_reply": "2025-02-10T14:45:48.315560Z"
    },
    "papermill": {
     "duration": 0.057373,
     "end_time": "2025-02-10T14:45:48.318761",
     "exception": false,
     "start_time": "2025-02-10T14:45:48.261388",
     "status": "completed"
    },
    "tags": []
   },
   "outputs": [
    {
     "data": {
      "text/plain": [
       "array([4.9868884, 4.8687286, 5.7402234, ..., 2.0287817, 2.2677531,\n",
       "       5.8934183], dtype=float32)"
      ]
     },
     "execution_count": 68,
     "metadata": {},
     "output_type": "execute_result"
    }
   ],
   "source": [
    "test_y_log"
   ]
  },
  {
   "cell_type": "code",
   "execution_count": 69,
   "id": "5d0e87d6",
   "metadata": {
    "execution": {
     "iopub.execute_input": "2025-02-10T14:45:48.415458Z",
     "iopub.status.busy": "2025-02-10T14:45:48.415052Z",
     "iopub.status.idle": "2025-02-10T14:45:48.420460Z",
     "shell.execute_reply": "2025-02-10T14:45:48.419629Z"
    },
    "papermill": {
     "duration": 0.056015,
     "end_time": "2025-02-10T14:45:48.422470",
     "exception": false,
     "start_time": "2025-02-10T14:45:48.366455",
     "status": "completed"
    },
    "tags": []
   },
   "outputs": [],
   "source": [
    "y_pred = np.expm1(test_y_log)"
   ]
  },
  {
   "cell_type": "code",
   "execution_count": 70,
   "id": "86ef3963",
   "metadata": {
    "execution": {
     "iopub.execute_input": "2025-02-10T14:45:48.520003Z",
     "iopub.status.busy": "2025-02-10T14:45:48.519048Z",
     "iopub.status.idle": "2025-02-10T14:45:48.525883Z",
     "shell.execute_reply": "2025-02-10T14:45:48.524880Z"
    },
    "papermill": {
     "duration": 0.057613,
     "end_time": "2025-02-10T14:45:48.527764",
     "exception": false,
     "start_time": "2025-02-10T14:45:48.470151",
     "status": "completed"
    },
    "tags": []
   },
   "outputs": [
    {
     "data": {
      "text/plain": [
       "array([145.47992  , 129.15533  , 310.1339   , ...,   6.6048155,\n",
       "         8.657677 , 361.6428   ], dtype=float32)"
      ]
     },
     "execution_count": 70,
     "metadata": {},
     "output_type": "execute_result"
    }
   ],
   "source": [
    "y_pred"
   ]
  },
  {
   "cell_type": "markdown",
   "id": "fd7e3b20",
   "metadata": {
    "papermill": {
     "duration": 0.047378,
     "end_time": "2025-02-10T14:45:48.623585",
     "exception": false,
     "start_time": "2025-02-10T14:45:48.576207",
     "status": "completed"
    },
    "tags": []
   },
   "source": [
    "## Csv file preparation"
   ]
  },
  {
   "cell_type": "code",
   "execution_count": 71,
   "id": "19f6c195",
   "metadata": {
    "execution": {
     "iopub.execute_input": "2025-02-10T14:45:48.721712Z",
     "iopub.status.busy": "2025-02-10T14:45:48.720715Z",
     "iopub.status.idle": "2025-02-10T14:45:48.791774Z",
     "shell.execute_reply": "2025-02-10T14:45:48.790595Z"
    },
    "papermill": {
     "duration": 0.122817,
     "end_time": "2025-02-10T14:45:48.794402",
     "exception": false,
     "start_time": "2025-02-10T14:45:48.671585",
     "status": "completed"
    },
    "tags": []
   },
   "outputs": [],
   "source": [
    "test[\"global_point\"] = y_pred\n",
    "test[[\"novel_id\",\"global_point\"]].to_csv(\"predictions.csv\", index=False)"
   ]
  },
  {
   "cell_type": "code",
   "execution_count": 72,
   "id": "56fe0317",
   "metadata": {
    "execution": {
     "iopub.execute_input": "2025-02-10T14:45:48.893994Z",
     "iopub.status.busy": "2025-02-10T14:45:48.893566Z",
     "iopub.status.idle": "2025-02-10T14:45:48.905847Z",
     "shell.execute_reply": "2025-02-10T14:45:48.904813Z"
    },
    "papermill": {
     "duration": 0.066296,
     "end_time": "2025-02-10T14:45:48.908467",
     "exception": false,
     "start_time": "2025-02-10T14:45:48.842171",
     "status": "completed"
    },
    "tags": []
   },
   "outputs": [
    {
     "data": {
      "text/plain": [
       "count     40678.000000\n",
       "mean        535.665466\n",
       "std        3337.489258\n",
       "min          -0.079887\n",
       "25%          16.967507\n",
       "50%          42.050411\n",
       "75%         174.571644\n",
       "max      184181.781250\n",
       "Name: global_point, dtype: float64"
      ]
     },
     "execution_count": 72,
     "metadata": {},
     "output_type": "execute_result"
    }
   ],
   "source": [
    "test[\"global_point\"].describe()"
   ]
  },
  {
   "cell_type": "code",
   "execution_count": 73,
   "id": "232771d0",
   "metadata": {
    "execution": {
     "iopub.execute_input": "2025-02-10T14:45:49.005787Z",
     "iopub.status.busy": "2025-02-10T14:45:49.005402Z",
     "iopub.status.idle": "2025-02-10T14:45:49.012346Z",
     "shell.execute_reply": "2025-02-10T14:45:49.011492Z"
    },
    "papermill": {
     "duration": 0.058036,
     "end_time": "2025-02-10T14:45:49.014338",
     "exception": false,
     "start_time": "2025-02-10T14:45:48.956302",
     "status": "completed"
    },
    "tags": []
   },
   "outputs": [],
   "source": [
    "test['global_point'] = test['global_point'].where(test['global_point'] >= 0, 0) # Clipping results to >0"
   ]
  },
  {
   "cell_type": "code",
   "execution_count": 74,
   "id": "47ed9ba5",
   "metadata": {
    "execution": {
     "iopub.execute_input": "2025-02-10T14:45:49.111039Z",
     "iopub.status.busy": "2025-02-10T14:45:49.110657Z",
     "iopub.status.idle": "2025-02-10T14:45:49.122465Z",
     "shell.execute_reply": "2025-02-10T14:45:49.121405Z"
    },
    "papermill": {
     "duration": 0.062743,
     "end_time": "2025-02-10T14:45:49.124719",
     "exception": false,
     "start_time": "2025-02-10T14:45:49.061976",
     "status": "completed"
    },
    "tags": []
   },
   "outputs": [
    {
     "data": {
      "text/plain": [
       "count     40678.000000\n",
       "mean        535.665466\n",
       "std        3337.489258\n",
       "min           0.000000\n",
       "25%          16.967507\n",
       "50%          42.050411\n",
       "75%         174.571644\n",
       "max      184181.781250\n",
       "Name: global_point, dtype: float64"
      ]
     },
     "execution_count": 74,
     "metadata": {},
     "output_type": "execute_result"
    }
   ],
   "source": [
    "test[\"global_point\"].describe()"
   ]
  },
  {
   "cell_type": "code",
   "execution_count": 75,
   "id": "7edcfc45",
   "metadata": {
    "execution": {
     "iopub.execute_input": "2025-02-10T14:45:49.223234Z",
     "iopub.status.busy": "2025-02-10T14:45:49.222800Z",
     "iopub.status.idle": "2025-02-10T14:45:49.290234Z",
     "shell.execute_reply": "2025-02-10T14:45:49.289334Z"
    },
    "papermill": {
     "duration": 0.119814,
     "end_time": "2025-02-10T14:45:49.292591",
     "exception": false,
     "start_time": "2025-02-10T14:45:49.172777",
     "status": "completed"
    },
    "tags": []
   },
   "outputs": [],
   "source": [
    "test[[\"novel_id\",\"global_point\"]].to_csv(\"predictions.csv\", index=False)"
   ]
  },
  {
   "cell_type": "code",
   "execution_count": 76,
   "id": "e231a220",
   "metadata": {
    "execution": {
     "iopub.execute_input": "2025-02-10T14:45:49.390202Z",
     "iopub.status.busy": "2025-02-10T14:45:49.389201Z",
     "iopub.status.idle": "2025-02-10T14:45:49.618178Z",
     "shell.execute_reply": "2025-02-10T14:45:49.617353Z"
    },
    "papermill": {
     "duration": 0.281934,
     "end_time": "2025-02-10T14:45:49.622231",
     "exception": false,
     "start_time": "2025-02-10T14:45:49.340297",
     "status": "completed"
    },
    "tags": []
   },
   "outputs": [
    {
     "data": {
      "text/plain": [
       "array([5.294416 , 4.794411 , 5.678208 , ..., 2.730723 , 2.4157228,\n",
       "       5.9423943], dtype=float32)"
      ]
     },
     "execution_count": 76,
     "metadata": {},
     "output_type": "execute_result"
    }
   ],
   "source": [
    "model.predict(test_x,iteration_range=(0, 120))"
   ]
  }
 ],
 "metadata": {
  "kaggle": {
   "accelerator": "none",
   "dataSources": [
    {
     "databundleVersionId": 7943119,
     "sourceId": 72398,
     "sourceType": "competition"
    }
   ],
   "dockerImageVersionId": 30761,
   "isGpuEnabled": false,
   "isInternetEnabled": true,
   "language": "python",
   "sourceType": "notebook"
  },
  "kernelspec": {
   "display_name": "Python 3",
   "language": "python",
   "name": "python3"
  },
  "language_info": {
   "codemirror_mode": {
    "name": "ipython",
    "version": 3
   },
   "file_extension": ".py",
   "mimetype": "text/x-python",
   "name": "python",
   "nbconvert_exporter": "python",
   "pygments_lexer": "ipython3",
   "version": "3.10.14"
  },
  "papermill": {
   "default_parameters": {},
   "duration": 884.714813,
   "end_time": "2025-02-10T14:45:53.295349",
   "environment_variables": {},
   "exception": null,
   "input_path": "__notebook__.ipynb",
   "output_path": "__notebook__.ipynb",
   "parameters": {},
   "start_time": "2025-02-10T14:31:08.580536",
   "version": "2.6.0"
  }
 },
 "nbformat": 4,
 "nbformat_minor": 5
}
